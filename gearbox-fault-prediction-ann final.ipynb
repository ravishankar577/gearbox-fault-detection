{
 "cells": [
  {
   "cell_type": "code",
   "execution_count": 19,
   "id": "incorrect-companion",
   "metadata": {
    "_cell_guid": "b1076dfc-b9ad-4769-8c92-a6c4dae69d19",
    "_uuid": "8f2839f25d086af736a60e9eeb907d3b93b6e0e5",
    "execution": {
     "iopub.execute_input": "2022-03-26T15:08:50.382117Z",
     "iopub.status.busy": "2022-03-26T15:08:50.380795Z",
     "iopub.status.idle": "2022-03-26T15:08:50.409128Z",
     "shell.execute_reply": "2022-03-26T15:08:50.409955Z"
    },
    "papermill": {
     "duration": 0.062085,
     "end_time": "2022-03-26T15:08:50.410379",
     "exception": false,
     "start_time": "2022-03-26T15:08:50.348294",
     "status": "completed"
    },
    "tags": []
   },
   "outputs": [],
   "source": [
    "import pandas as pd\n",
    "import matplotlib.pyplot as plt\n",
    "import numpy as np\n",
    "from sklearn.model_selection import train_test_split\n",
    "import seaborn as sns\n",
    "from sklearn.utils import shuffle"
   ]
  },
  {
   "attachments": {},
   "cell_type": "markdown",
   "id": "consecutive-analyst",
   "metadata": {
    "papermill": {
     "duration": 0.026511,
     "end_time": "2022-03-26T15:08:50.465589",
     "exception": false,
     "start_time": "2022-03-26T15:08:50.439078",
     "status": "completed"
    },
    "tags": []
   },
   "source": [
    "Will be shuffling the final aggregated dataset before using in the model as the data values are sequential. Shuffled dataset will be divided into training and testing. "
   ]
  },
  {
   "cell_type": "code",
   "execution_count": 2,
   "id": "ad22ab64",
   "metadata": {},
   "outputs": [],
   "source": [
    "broken_dataset  = \"Data/broken30hz_stdev_100.csv\"\n",
    "healthy_dataset = \"Data/healthy30hz_stdev_100.csv\""
   ]
  },
  {
   "cell_type": "code",
   "execution_count": 4,
   "id": "42dc8569",
   "metadata": {},
   "outputs": [
    {
     "data": {
      "text/html": [
       "<div>\n",
       "<style scoped>\n",
       "    .dataframe tbody tr th:only-of-type {\n",
       "        vertical-align: middle;\n",
       "    }\n",
       "\n",
       "    .dataframe tbody tr th {\n",
       "        vertical-align: top;\n",
       "    }\n",
       "\n",
       "    .dataframe thead th {\n",
       "        text-align: right;\n",
       "    }\n",
       "</style>\n",
       "<table border=\"1\" class=\"dataframe\">\n",
       "  <thead>\n",
       "    <tr style=\"text-align: right;\">\n",
       "      <th></th>\n",
       "      <th>a1</th>\n",
       "      <th>a2</th>\n",
       "      <th>a3</th>\n",
       "      <th>a4</th>\n",
       "      <th>load</th>\n",
       "      <th>failure</th>\n",
       "    </tr>\n",
       "  </thead>\n",
       "  <tbody>\n",
       "    <tr>\n",
       "      <th>count</th>\n",
       "      <td>20203.000000</td>\n",
       "      <td>20203.000000</td>\n",
       "      <td>20203.000000</td>\n",
       "      <td>20203.000000</td>\n",
       "      <td>20203.000000</td>\n",
       "      <td>20203.000000</td>\n",
       "    </tr>\n",
       "    <tr>\n",
       "      <th>mean</th>\n",
       "      <td>5.766842</td>\n",
       "      <td>4.266330</td>\n",
       "      <td>3.847555</td>\n",
       "      <td>4.276706</td>\n",
       "      <td>45.644706</td>\n",
       "      <td>0.497401</td>\n",
       "    </tr>\n",
       "    <tr>\n",
       "      <th>std</th>\n",
       "      <td>2.219236</td>\n",
       "      <td>1.162870</td>\n",
       "      <td>1.020591</td>\n",
       "      <td>1.228792</td>\n",
       "      <td>28.660383</td>\n",
       "      <td>0.500006</td>\n",
       "    </tr>\n",
       "    <tr>\n",
       "      <th>min</th>\n",
       "      <td>1.468928</td>\n",
       "      <td>1.272738</td>\n",
       "      <td>0.990336</td>\n",
       "      <td>1.111679</td>\n",
       "      <td>0.000000</td>\n",
       "      <td>0.000000</td>\n",
       "    </tr>\n",
       "    <tr>\n",
       "      <th>25%</th>\n",
       "      <td>4.164285</td>\n",
       "      <td>3.473209</td>\n",
       "      <td>3.118392</td>\n",
       "      <td>3.409206</td>\n",
       "      <td>20.000000</td>\n",
       "      <td>0.000000</td>\n",
       "    </tr>\n",
       "    <tr>\n",
       "      <th>50%</th>\n",
       "      <td>5.337988</td>\n",
       "      <td>4.146414</td>\n",
       "      <td>3.779156</td>\n",
       "      <td>4.211713</td>\n",
       "      <td>50.000000</td>\n",
       "      <td>0.000000</td>\n",
       "    </tr>\n",
       "    <tr>\n",
       "      <th>75%</th>\n",
       "      <td>7.003621</td>\n",
       "      <td>4.903647</td>\n",
       "      <td>4.521386</td>\n",
       "      <td>5.078614</td>\n",
       "      <td>70.000000</td>\n",
       "      <td>1.000000</td>\n",
       "    </tr>\n",
       "    <tr>\n",
       "      <th>max</th>\n",
       "      <td>23.909199</td>\n",
       "      <td>10.984053</td>\n",
       "      <td>8.273939</td>\n",
       "      <td>10.609798</td>\n",
       "      <td>90.000000</td>\n",
       "      <td>1.000000</td>\n",
       "    </tr>\n",
       "  </tbody>\n",
       "</table>\n",
       "</div>"
      ],
      "text/plain": [
       "                 a1            a2            a3            a4          load  \\\n",
       "count  20203.000000  20203.000000  20203.000000  20203.000000  20203.000000   \n",
       "mean       5.766842      4.266330      3.847555      4.276706     45.644706   \n",
       "std        2.219236      1.162870      1.020591      1.228792     28.660383   \n",
       "min        1.468928      1.272738      0.990336      1.111679      0.000000   \n",
       "25%        4.164285      3.473209      3.118392      3.409206     20.000000   \n",
       "50%        5.337988      4.146414      3.779156      4.211713     50.000000   \n",
       "75%        7.003621      4.903647      4.521386      5.078614     70.000000   \n",
       "max       23.909199     10.984053      8.273939     10.609798     90.000000   \n",
       "\n",
       "            failure  \n",
       "count  20203.000000  \n",
       "mean       0.497401  \n",
       "std        0.500006  \n",
       "min        0.000000  \n",
       "25%        0.000000  \n",
       "50%        0.000000  \n",
       "75%        1.000000  \n",
       "max        1.000000  "
      ]
     },
     "execution_count": 4,
     "metadata": {},
     "output_type": "execute_result"
    }
   ],
   "source": [
    "#Reading the healthy and broken datasets\n",
    "healthyDataset = pd.read_csv(healthy_dataset)\n",
    "brokenDataset = pd.read_csv(broken_dataset)\n",
    "\n",
    "#Combining the healthy and broken datasets\n",
    "dataset = pd.concat([healthyDataset, brokenDataset], axis=0)\n",
    "\n",
    "#Dataset basic details\n",
    "dataset.describe()"
   ]
  },
  {
   "cell_type": "code",
   "execution_count": 5,
   "id": "b7f70cf9",
   "metadata": {},
   "outputs": [],
   "source": [
    "#dividing load with 100 for scaling the data\n",
    "dataset[\"load\"]= dataset[\"load\"]/100"
   ]
  },
  {
   "cell_type": "code",
   "execution_count": 6,
   "id": "090d4aa1",
   "metadata": {},
   "outputs": [
    {
     "data": {
      "text/html": [
       "<div>\n",
       "<style scoped>\n",
       "    .dataframe tbody tr th:only-of-type {\n",
       "        vertical-align: middle;\n",
       "    }\n",
       "\n",
       "    .dataframe tbody tr th {\n",
       "        vertical-align: top;\n",
       "    }\n",
       "\n",
       "    .dataframe thead th {\n",
       "        text-align: right;\n",
       "    }\n",
       "</style>\n",
       "<table border=\"1\" class=\"dataframe\">\n",
       "  <thead>\n",
       "    <tr style=\"text-align: right;\">\n",
       "      <th></th>\n",
       "      <th>a1</th>\n",
       "      <th>a2</th>\n",
       "      <th>a3</th>\n",
       "      <th>a4</th>\n",
       "      <th>load</th>\n",
       "      <th>failure</th>\n",
       "    </tr>\n",
       "  </thead>\n",
       "  <tbody>\n",
       "    <tr>\n",
       "      <th>0</th>\n",
       "      <td>4.518469</td>\n",
       "      <td>2.627219</td>\n",
       "      <td>3.129601</td>\n",
       "      <td>3.046165</td>\n",
       "      <td>0.0</td>\n",
       "      <td>0</td>\n",
       "    </tr>\n",
       "    <tr>\n",
       "      <th>1</th>\n",
       "      <td>3.463637</td>\n",
       "      <td>2.616907</td>\n",
       "      <td>2.286667</td>\n",
       "      <td>2.389276</td>\n",
       "      <td>0.0</td>\n",
       "      <td>0</td>\n",
       "    </tr>\n",
       "    <tr>\n",
       "      <th>2</th>\n",
       "      <td>4.461867</td>\n",
       "      <td>2.833214</td>\n",
       "      <td>2.413283</td>\n",
       "      <td>2.977934</td>\n",
       "      <td>0.0</td>\n",
       "      <td>0</td>\n",
       "    </tr>\n",
       "    <tr>\n",
       "      <th>3</th>\n",
       "      <td>4.381037</td>\n",
       "      <td>4.703040</td>\n",
       "      <td>2.668196</td>\n",
       "      <td>2.650610</td>\n",
       "      <td>0.0</td>\n",
       "      <td>0</td>\n",
       "    </tr>\n",
       "    <tr>\n",
       "      <th>4</th>\n",
       "      <td>3.880276</td>\n",
       "      <td>3.054690</td>\n",
       "      <td>2.502711</td>\n",
       "      <td>2.147417</td>\n",
       "      <td>0.0</td>\n",
       "      <td>0</td>\n",
       "    </tr>\n",
       "    <tr>\n",
       "      <th>...</th>\n",
       "      <td>...</td>\n",
       "      <td>...</td>\n",
       "      <td>...</td>\n",
       "      <td>...</td>\n",
       "      <td>...</td>\n",
       "      <td>...</td>\n",
       "    </tr>\n",
       "    <tr>\n",
       "      <th>10044</th>\n",
       "      <td>4.020584</td>\n",
       "      <td>4.213608</td>\n",
       "      <td>3.332272</td>\n",
       "      <td>4.147442</td>\n",
       "      <td>0.9</td>\n",
       "      <td>1</td>\n",
       "    </tr>\n",
       "    <tr>\n",
       "      <th>10045</th>\n",
       "      <td>4.842131</td>\n",
       "      <td>6.242672</td>\n",
       "      <td>4.369814</td>\n",
       "      <td>5.759370</td>\n",
       "      <td>0.9</td>\n",
       "      <td>1</td>\n",
       "    </tr>\n",
       "    <tr>\n",
       "      <th>10046</th>\n",
       "      <td>4.387001</td>\n",
       "      <td>4.183584</td>\n",
       "      <td>4.093012</td>\n",
       "      <td>5.853607</td>\n",
       "      <td>0.9</td>\n",
       "      <td>1</td>\n",
       "    </tr>\n",
       "    <tr>\n",
       "      <th>10047</th>\n",
       "      <td>3.549780</td>\n",
       "      <td>3.318551</td>\n",
       "      <td>3.709936</td>\n",
       "      <td>5.245193</td>\n",
       "      <td>0.9</td>\n",
       "      <td>1</td>\n",
       "    </tr>\n",
       "    <tr>\n",
       "      <th>10048</th>\n",
       "      <td>6.136139</td>\n",
       "      <td>5.357831</td>\n",
       "      <td>5.037464</td>\n",
       "      <td>5.913611</td>\n",
       "      <td>0.9</td>\n",
       "      <td>1</td>\n",
       "    </tr>\n",
       "  </tbody>\n",
       "</table>\n",
       "<p>20203 rows × 6 columns</p>\n",
       "</div>"
      ],
      "text/plain": [
       "             a1        a2        a3        a4  load  failure\n",
       "0      4.518469  2.627219  3.129601  3.046165   0.0        0\n",
       "1      3.463637  2.616907  2.286667  2.389276   0.0        0\n",
       "2      4.461867  2.833214  2.413283  2.977934   0.0        0\n",
       "3      4.381037  4.703040  2.668196  2.650610   0.0        0\n",
       "4      3.880276  3.054690  2.502711  2.147417   0.0        0\n",
       "...         ...       ...       ...       ...   ...      ...\n",
       "10044  4.020584  4.213608  3.332272  4.147442   0.9        1\n",
       "10045  4.842131  6.242672  4.369814  5.759370   0.9        1\n",
       "10046  4.387001  4.183584  4.093012  5.853607   0.9        1\n",
       "10047  3.549780  3.318551  3.709936  5.245193   0.9        1\n",
       "10048  6.136139  5.357831  5.037464  5.913611   0.9        1\n",
       "\n",
       "[20203 rows x 6 columns]"
      ]
     },
     "execution_count": 6,
     "metadata": {},
     "output_type": "execute_result"
    }
   ],
   "source": [
    "#viewing the dataset\n",
    "dataset"
   ]
  },
  {
   "cell_type": "code",
   "execution_count": 18,
   "id": "c90da65d",
   "metadata": {},
   "outputs": [
    {
     "name": "stdout",
     "output_type": "stream",
     "text": [
      "a1         0\n",
      "a2         0\n",
      "a3         0\n",
      "a4         0\n",
      "load       0\n",
      "failure    0\n",
      "dtype: int64\n"
     ]
    }
   ],
   "source": [
    "#printing null values in each column\n",
    "counts = dataset.isna().sum()\n",
    "print(counts.sort_values())"
   ]
  },
  {
   "cell_type": "code",
   "execution_count": 20,
   "id": "28897a31",
   "metadata": {},
   "outputs": [
    {
     "data": {
      "image/png": "[encoded data removed]",
      "text/plain": [
       "<Figure size 500x500 with 1 Axes>"
      ]
     },
     "metadata": {},
     "output_type": "display_data"
    }
   ],
   "source": [
    "# Plotting the number of sample of of data for healthy and failure classes\n",
    "# plt.figure(figsize=(15,4))\n",
    "sns.set_style('whitegrid')\n",
    "sns.set_context('paper')\n",
    "sns.set_palette('GnBu_d')\n",
    "a = sns.catplot(x='failure', data=dataset, kind='count')\n",
    "a.fig.suptitle('Number of Samples in Each Class', y=1.03)\n",
    "a.set(ylabel='Number of Samples', xlabel='Classes')\n",
    "plt.show()"
   ]
  },
  {
   "attachments": {},
   "cell_type": "markdown",
   "id": "ca1930bb",
   "metadata": {},
   "source": [
    "# Failure Column values\n",
    "\n",
    "### 0 --> Healhty\n",
    "### 1 --> Broken"
   ]
  },
  {
   "cell_type": "code",
   "execution_count": 8,
   "id": "1aadaa5b",
   "metadata": {},
   "outputs": [
    {
     "name": "stdout",
     "output_type": "stream",
     "text": [
      "a1 max value:  23.909198829607966\n",
      "a1 min value:  1.4689275707806346\n",
      "a2 max value:  10.984053443065797\n",
      "a2 min value:  1.2727376138671107\n",
      "a3 max value:  8.273938829112943\n",
      "a3 min value:  0.9903356318147843\n",
      "a4 max value:  10.609798141066044\n",
      "a4 min value:  1.1116785206448432\n"
     ]
    }
   ],
   "source": [
    "#Range of values for each sensor type:\n",
    "\n",
    "print(\"a1 max value: \",dataset.a1.max())\n",
    "print(\"a1 min value: \",dataset.a1.min())\n",
    "print(\"a2 max value: \",dataset.a2.max())\n",
    "print(\"a2 min value: \",dataset.a2.min())\n",
    "print(\"a3 max value: \",dataset.a3.max())\n",
    "print(\"a3 min value: \",dataset.a3.min())\n",
    "print(\"a4 max value: \",dataset.a4.max())\n",
    "print(\"a4 min value: \",dataset.a4.min())\n"
   ]
  },
  {
   "attachments": {},
   "cell_type": "markdown",
   "id": "better-programming",
   "metadata": {
    "papermill": {
     "duration": 0.032113,
     "end_time": "2022-03-26T15:08:55.770103",
     "exception": false,
     "start_time": "2022-03-26T15:08:55.737990",
     "status": "completed"
    },
    "tags": []
   },
   "source": [
    "## Modelling ANN"
   ]
  },
  {
   "cell_type": "code",
   "execution_count": 9,
   "id": "suburban-charm",
   "metadata": {
    "execution": {
     "iopub.execute_input": "2022-03-26T15:08:55.840103Z",
     "iopub.status.busy": "2022-03-26T15:08:55.839441Z",
     "iopub.status.idle": "2022-03-26T15:08:55.843846Z",
     "shell.execute_reply": "2022-03-26T15:08:55.843217Z"
    },
    "papermill": {
     "duration": 0.041674,
     "end_time": "2022-03-26T15:08:55.844014",
     "exception": false,
     "start_time": "2022-03-26T15:08:55.802340",
     "status": "completed"
    },
    "tags": []
   },
   "outputs": [],
   "source": [
    "#Lisiting the features column and the target label column\n",
    "training_features = ['a1', 'a2', 'a3', 'a4', 'load']\n",
    "label = ['failure']"
   ]
  },
  {
   "cell_type": "code",
   "execution_count": 10,
   "id": "secondary-single",
   "metadata": {
    "execution": {
     "iopub.execute_input": "2022-03-26T15:08:55.952327Z",
     "iopub.status.busy": "2022-03-26T15:08:55.951615Z",
     "iopub.status.idle": "2022-03-26T15:08:55.954894Z",
     "shell.execute_reply": "2022-03-26T15:08:55.954287Z"
    },
    "papermill": {
     "duration": 0.07899,
     "end_time": "2022-03-26T15:08:55.955038",
     "exception": false,
     "start_time": "2022-03-26T15:08:55.876048",
     "status": "completed"
    },
    "tags": []
   },
   "outputs": [
    {
     "data": {
      "text/plain": [
       "(20203, 5)"
      ]
     },
     "execution_count": 10,
     "metadata": {},
     "output_type": "execute_result"
    }
   ],
   "source": [
    "#Creating a dataset with the input training features only\n",
    "x = dataset[training_features]\n",
    "x.shape #training features of consists of 2021119 rows and 5 columns"
   ]
  },
  {
   "cell_type": "code",
   "execution_count": 11,
   "id": "expired-costume",
   "metadata": {
    "execution": {
     "iopub.execute_input": "2022-03-26T15:08:56.036636Z",
     "iopub.status.busy": "2022-03-26T15:08:56.035927Z",
     "iopub.status.idle": "2022-03-26T15:08:56.039599Z",
     "shell.execute_reply": "2022-03-26T15:08:56.040228Z"
    },
    "papermill": {
     "duration": 0.051073,
     "end_time": "2022-03-26T15:08:56.040405",
     "exception": false,
     "start_time": "2022-03-26T15:08:55.989332",
     "status": "completed"
    },
    "tags": []
   },
   "outputs": [
    {
     "data": {
      "text/plain": [
       "(20203, 1)"
      ]
     },
     "execution_count": 11,
     "metadata": {},
     "output_type": "execute_result"
    }
   ],
   "source": [
    "#Creating a dataset with the oytput target label column only only\n",
    "y = dataset[label]\n",
    "y.shape #label data consists of 2021119 rows and 1 col "
   ]
  },
  {
   "cell_type": "code",
   "execution_count": 12,
   "id": "lesser-calcium",
   "metadata": {
    "execution": {
     "iopub.execute_input": "2022-03-26T15:08:56.652716Z",
     "iopub.status.busy": "2022-03-26T15:08:56.651727Z",
     "iopub.status.idle": "2022-03-26T15:08:56.662104Z",
     "shell.execute_reply": "2022-03-26T15:08:56.662613Z"
    },
    "papermill": {
     "duration": 0.046975,
     "end_time": "2022-03-26T15:08:56.662785",
     "exception": false,
     "start_time": "2022-03-26T15:08:56.615810",
     "status": "completed"
    },
    "tags": []
   },
   "outputs": [],
   "source": [
    "#shuffling the dataset\n",
    "x1,y1 = shuffle(x,y)\n"
   ]
  },
  {
   "cell_type": "code",
   "execution_count": 13,
   "id": "specialized-guyana",
   "metadata": {
    "execution": {
     "iopub.execute_input": "2022-03-26T15:08:56.733999Z",
     "iopub.status.busy": "2022-03-26T15:08:56.733420Z",
     "iopub.status.idle": "2022-03-26T15:08:56.745001Z",
     "shell.execute_reply": "2022-03-26T15:08:56.745555Z"
    },
    "papermill": {
     "duration": 0.049298,
     "end_time": "2022-03-26T15:08:56.745726",
     "exception": false,
     "start_time": "2022-03-26T15:08:56.696428",
     "status": "completed"
    },
    "tags": []
   },
   "outputs": [],
   "source": [
    "#Splitting the dataset into training and testing sets. #0% of the data is used for testing. Remaining for training\n",
    "x1_train, x1_test, y1_train, y1_test = train_test_split(x1, y1, test_size=0.3, random_state=42)"
   ]
  },
  {
   "cell_type": "code",
   "execution_count": 14,
   "id": "after-indicator",
   "metadata": {
    "execution": {
     "iopub.execute_input": "2022-03-26T15:08:56.815573Z",
     "iopub.status.busy": "2022-03-26T15:08:56.814948Z",
     "iopub.status.idle": "2022-03-26T15:08:56.819923Z",
     "shell.execute_reply": "2022-03-26T15:08:56.820504Z"
    },
    "papermill": {
     "duration": 0.041487,
     "end_time": "2022-03-26T15:08:56.820662",
     "exception": false,
     "start_time": "2022-03-26T15:08:56.779175",
     "status": "completed"
    },
    "tags": []
   },
   "outputs": [
    {
     "data": {
      "text/plain": [
       "((14142, 5), (6061, 5), (14142, 1), (6061, 1))"
      ]
     },
     "execution_count": 14,
     "metadata": {},
     "output_type": "execute_result"
    }
   ],
   "source": [
    "x1_train.shape,x1_test.shape, y1_train.shape, y1_test.shape "
   ]
  },
  {
   "cell_type": "code",
   "execution_count": 15,
   "id": "b6ad1d6e",
   "metadata": {},
   "outputs": [],
   "source": [
    "#importing required packages for modelling\n",
    "from keras import Sequential\n",
    "from keras.layers import BatchNormalization, Dense, Activation"
   ]
  },
  {
   "cell_type": "code",
   "execution_count": 16,
   "id": "b2746924",
   "metadata": {},
   "outputs": [],
   "source": [
    "#Building the neural network model\n",
    "model = Sequential()\n",
    "model.add(BatchNormalization())\n",
    "model.add(Dense(1))\n",
    "model.add(Activation('sigmoid'))\n",
    "model.compile(optimizer='SGD',\n",
    "              loss='binary_crossentropy',\n",
    "              metrics=['binary_accuracy'])"
   ]
  },
  {
   "cell_type": "code",
   "execution_count": 17,
   "id": "57e4fe4e",
   "metadata": {},
   "outputs": [
    {
     "name": "stdout",
     "output_type": "stream",
     "text": [
      "Epoch 1/100\n",
      "442/442 [==============================] - 2s 2ms/step - loss: 0.6448 - binary_accuracy: 0.6391 - val_loss: 0.4961 - val_binary_accuracy: 0.7976\n",
      "Epoch 2/100\n",
      "442/442 [==============================] - 1s 2ms/step - loss: 0.4226 - binary_accuracy: 0.8372 - val_loss: 0.3677 - val_binary_accuracy: 0.8640\n",
      "Epoch 3/100\n",
      "442/442 [==============================] - 1s 2ms/step - loss: 0.3395 - binary_accuracy: 0.8735 - val_loss: 0.3159 - val_binary_accuracy: 0.8824\n",
      "Epoch 4/100\n",
      "442/442 [==============================] - 1s 2ms/step - loss: 0.3035 - binary_accuracy: 0.8846 - val_loss: 0.2889 - val_binary_accuracy: 0.8928\n",
      "Epoch 5/100\n",
      "442/442 [==============================] - 1s 2ms/step - loss: 0.2876 - binary_accuracy: 0.8888 - val_loss: 0.2719 - val_binary_accuracy: 0.8989\n",
      "Epoch 6/100\n",
      "442/442 [==============================] - 1s 2ms/step - loss: 0.2716 - binary_accuracy: 0.8935 - val_loss: 0.2605 - val_binary_accuracy: 0.9018\n",
      "Epoch 7/100\n",
      "442/442 [==============================] - 1s 2ms/step - loss: 0.2626 - binary_accuracy: 0.8973 - val_loss: 0.2531 - val_binary_accuracy: 0.9030\n",
      "Epoch 8/100\n",
      "442/442 [==============================] - 1s 2ms/step - loss: 0.2560 - binary_accuracy: 0.8994 - val_loss: 0.2474 - val_binary_accuracy: 0.9038\n",
      "Epoch 9/100\n",
      "442/442 [==============================] - 1s 2ms/step - loss: 0.2568 - binary_accuracy: 0.8977 - val_loss: 0.2439 - val_binary_accuracy: 0.9055\n",
      "Epoch 10/100\n",
      "442/442 [==============================] - 1s 2ms/step - loss: 0.2461 - binary_accuracy: 0.9016 - val_loss: 0.2413 - val_binary_accuracy: 0.9073\n",
      "Epoch 11/100\n",
      "442/442 [==============================] - 1s 2ms/step - loss: 0.2477 - binary_accuracy: 0.8984 - val_loss: 0.2394 - val_binary_accuracy: 0.9078\n",
      "Epoch 12/100\n",
      "442/442 [==============================] - 1s 2ms/step - loss: 0.2429 - binary_accuracy: 0.9028 - val_loss: 0.2374 - val_binary_accuracy: 0.9083\n",
      "Epoch 13/100\n",
      "442/442 [==============================] - 1s 2ms/step - loss: 0.2464 - binary_accuracy: 0.8992 - val_loss: 0.2353 - val_binary_accuracy: 0.9081\n",
      "Epoch 14/100\n",
      "442/442 [==============================] - 1s 2ms/step - loss: 0.2454 - binary_accuracy: 0.9020 - val_loss: 0.2344 - val_binary_accuracy: 0.9073\n",
      "Epoch 15/100\n",
      "442/442 [==============================] - 1s 2ms/step - loss: 0.2426 - binary_accuracy: 0.9028 - val_loss: 0.2341 - val_binary_accuracy: 0.9102\n",
      "Epoch 16/100\n",
      "442/442 [==============================] - 1s 2ms/step - loss: 0.2399 - binary_accuracy: 0.9031 - val_loss: 0.2318 - val_binary_accuracy: 0.9073\n",
      "Epoch 17/100\n",
      "442/442 [==============================] - 1s 2ms/step - loss: 0.2371 - binary_accuracy: 0.9033 - val_loss: 0.2310 - val_binary_accuracy: 0.9066\n",
      "Epoch 18/100\n",
      "442/442 [==============================] - 1s 2ms/step - loss: 0.2421 - binary_accuracy: 0.9002 - val_loss: 0.2302 - val_binary_accuracy: 0.9076\n",
      "Epoch 19/100\n",
      "442/442 [==============================] - 1s 2ms/step - loss: 0.2370 - binary_accuracy: 0.9043 - val_loss: 0.2306 - val_binary_accuracy: 0.9071\n",
      "Epoch 20/100\n",
      "442/442 [==============================] - 1s 2ms/step - loss: 0.2392 - binary_accuracy: 0.9032 - val_loss: 0.2297 - val_binary_accuracy: 0.9076\n",
      "Epoch 21/100\n",
      "442/442 [==============================] - 1s 2ms/step - loss: 0.2426 - binary_accuracy: 0.9018 - val_loss: 0.2289 - val_binary_accuracy: 0.9071\n",
      "Epoch 22/100\n",
      "442/442 [==============================] - 1s 2ms/step - loss: 0.2360 - binary_accuracy: 0.9020 - val_loss: 0.2285 - val_binary_accuracy: 0.9066\n",
      "Epoch 23/100\n",
      "442/442 [==============================] - 1s 2ms/step - loss: 0.2428 - binary_accuracy: 0.8999 - val_loss: 0.2290 - val_binary_accuracy: 0.9069\n",
      "Epoch 24/100\n",
      "442/442 [==============================] - 1s 2ms/step - loss: 0.2378 - binary_accuracy: 0.9053 - val_loss: 0.2281 - val_binary_accuracy: 0.9063\n",
      "Epoch 25/100\n",
      "442/442 [==============================] - 1s 2ms/step - loss: 0.2385 - binary_accuracy: 0.9036 - val_loss: 0.2282 - val_binary_accuracy: 0.9061\n",
      "Epoch 26/100\n",
      "442/442 [==============================] - 1s 2ms/step - loss: 0.2383 - binary_accuracy: 0.9036 - val_loss: 0.2294 - val_binary_accuracy: 0.9081\n",
      "Epoch 27/100\n",
      "442/442 [==============================] - 1s 2ms/step - loss: 0.2399 - binary_accuracy: 0.9007 - val_loss: 0.2285 - val_binary_accuracy: 0.9073\n",
      "Epoch 28/100\n",
      "442/442 [==============================] - 1s 2ms/step - loss: 0.2371 - binary_accuracy: 0.9007 - val_loss: 0.2282 - val_binary_accuracy: 0.9051\n",
      "Epoch 29/100\n",
      "442/442 [==============================] - 1s 2ms/step - loss: 0.2429 - binary_accuracy: 0.9009 - val_loss: 0.2281 - val_binary_accuracy: 0.9079\n",
      "Epoch 30/100\n",
      "442/442 [==============================] - 1s 2ms/step - loss: 0.2364 - binary_accuracy: 0.9041 - val_loss: 0.2281 - val_binary_accuracy: 0.9073\n",
      "Epoch 31/100\n",
      "442/442 [==============================] - 1s 2ms/step - loss: 0.2349 - binary_accuracy: 0.9039 - val_loss: 0.2277 - val_binary_accuracy: 0.9089\n",
      "Epoch 32/100\n",
      "442/442 [==============================] - 1s 2ms/step - loss: 0.2374 - binary_accuracy: 0.9023 - val_loss: 0.2285 - val_binary_accuracy: 0.9066\n",
      "Epoch 33/100\n",
      "442/442 [==============================] - 1s 2ms/step - loss: 0.2368 - binary_accuracy: 0.9031 - val_loss: 0.2284 - val_binary_accuracy: 0.9056\n",
      "Epoch 34/100\n",
      "442/442 [==============================] - 1s 2ms/step - loss: 0.2323 - binary_accuracy: 0.9050 - val_loss: 0.2287 - val_binary_accuracy: 0.9084\n",
      "Epoch 35/100\n",
      "442/442 [==============================] - 1s 2ms/step - loss: 0.2370 - binary_accuracy: 0.9024 - val_loss: 0.2275 - val_binary_accuracy: 0.9081\n",
      "Epoch 36/100\n",
      "442/442 [==============================] - 1s 2ms/step - loss: 0.2424 - binary_accuracy: 0.9016 - val_loss: 0.2283 - val_binary_accuracy: 0.9058\n",
      "Epoch 37/100\n",
      "442/442 [==============================] - 1s 2ms/step - loss: 0.2390 - binary_accuracy: 0.9028 - val_loss: 0.2290 - val_binary_accuracy: 0.9079\n",
      "Epoch 38/100\n",
      "442/442 [==============================] - 1s 2ms/step - loss: 0.2361 - binary_accuracy: 0.9026 - val_loss: 0.2281 - val_binary_accuracy: 0.9060\n",
      "Epoch 39/100\n",
      "442/442 [==============================] - 1s 2ms/step - loss: 0.2465 - binary_accuracy: 0.9003 - val_loss: 0.2279 - val_binary_accuracy: 0.9065\n",
      "Epoch 40/100\n",
      "442/442 [==============================] - 1s 2ms/step - loss: 0.2390 - binary_accuracy: 0.9007 - val_loss: 0.2281 - val_binary_accuracy: 0.9073\n",
      "Epoch 41/100\n",
      "442/442 [==============================] - 1s 2ms/step - loss: 0.2379 - binary_accuracy: 0.9001 - val_loss: 0.2278 - val_binary_accuracy: 0.9071\n",
      "Epoch 42/100\n",
      "442/442 [==============================] - 1s 2ms/step - loss: 0.2364 - binary_accuracy: 0.9030 - val_loss: 0.2280 - val_binary_accuracy: 0.9058\n",
      "Epoch 43/100\n",
      "442/442 [==============================] - 1s 2ms/step - loss: 0.2390 - binary_accuracy: 0.9031 - val_loss: 0.2276 - val_binary_accuracy: 0.9063\n",
      "Epoch 44/100\n",
      "442/442 [==============================] - 1s 2ms/step - loss: 0.2386 - binary_accuracy: 0.9019 - val_loss: 0.2279 - val_binary_accuracy: 0.9069\n",
      "Epoch 45/100\n",
      "442/442 [==============================] - 1s 2ms/step - loss: 0.2347 - binary_accuracy: 0.9041 - val_loss: 0.2277 - val_binary_accuracy: 0.9083\n",
      "Epoch 46/100\n",
      "442/442 [==============================] - 1s 2ms/step - loss: 0.2358 - binary_accuracy: 0.9036 - val_loss: 0.2280 - val_binary_accuracy: 0.9071\n",
      "Epoch 47/100\n",
      "442/442 [==============================] - 1s 2ms/step - loss: 0.2358 - binary_accuracy: 0.9039 - val_loss: 0.2276 - val_binary_accuracy: 0.9069\n",
      "Epoch 48/100\n",
      "442/442 [==============================] - 1s 2ms/step - loss: 0.2390 - binary_accuracy: 0.9029 - val_loss: 0.2284 - val_binary_accuracy: 0.9068\n",
      "Epoch 49/100\n",
      "442/442 [==============================] - 1s 2ms/step - loss: 0.2393 - binary_accuracy: 0.9021 - val_loss: 0.2278 - val_binary_accuracy: 0.9076\n",
      "Epoch 50/100\n",
      "442/442 [==============================] - 1s 2ms/step - loss: 0.2396 - binary_accuracy: 0.9027 - val_loss: 0.2279 - val_binary_accuracy: 0.9066\n",
      "Epoch 51/100\n",
      "442/442 [==============================] - 1s 2ms/step - loss: 0.2324 - binary_accuracy: 0.9033 - val_loss: 0.2285 - val_binary_accuracy: 0.9074\n",
      "Epoch 52/100\n",
      "442/442 [==============================] - 1s 2ms/step - loss: 0.2402 - binary_accuracy: 0.8994 - val_loss: 0.2278 - val_binary_accuracy: 0.9055\n",
      "Epoch 53/100\n",
      "442/442 [==============================] - 1s 2ms/step - loss: 0.2440 - binary_accuracy: 0.8985 - val_loss: 0.2280 - val_binary_accuracy: 0.9074\n",
      "Epoch 54/100\n",
      "442/442 [==============================] - 1s 2ms/step - loss: 0.2401 - binary_accuracy: 0.8991 - val_loss: 0.2281 - val_binary_accuracy: 0.9053\n",
      "Epoch 55/100\n",
      "442/442 [==============================] - 1s 2ms/step - loss: 0.2355 - binary_accuracy: 0.9031 - val_loss: 0.2279 - val_binary_accuracy: 0.9073\n",
      "Epoch 56/100\n",
      "442/442 [==============================] - 1s 2ms/step - loss: 0.2398 - binary_accuracy: 0.9007 - val_loss: 0.2286 - val_binary_accuracy: 0.9073\n",
      "Epoch 57/100\n",
      "442/442 [==============================] - 1s 2ms/step - loss: 0.2394 - binary_accuracy: 0.8994 - val_loss: 0.2291 - val_binary_accuracy: 0.9073\n",
      "Epoch 58/100\n",
      "442/442 [==============================] - 1s 2ms/step - loss: 0.2406 - binary_accuracy: 0.8982 - val_loss: 0.2291 - val_binary_accuracy: 0.9074\n",
      "Epoch 59/100\n",
      "442/442 [==============================] - 1s 2ms/step - loss: 0.2401 - binary_accuracy: 0.9018 - val_loss: 0.2282 - val_binary_accuracy: 0.9066\n",
      "Epoch 60/100\n",
      "442/442 [==============================] - 1s 2ms/step - loss: 0.2369 - binary_accuracy: 0.9021 - val_loss: 0.2279 - val_binary_accuracy: 0.9071\n",
      "Epoch 61/100\n",
      "442/442 [==============================] - 1s 2ms/step - loss: 0.2427 - binary_accuracy: 0.9014 - val_loss: 0.2287 - val_binary_accuracy: 0.9073\n",
      "Epoch 62/100\n",
      "442/442 [==============================] - 1s 2ms/step - loss: 0.2388 - binary_accuracy: 0.9028 - val_loss: 0.2276 - val_binary_accuracy: 0.9071\n",
      "Epoch 63/100\n",
      "442/442 [==============================] - 1s 2ms/step - loss: 0.2400 - binary_accuracy: 0.9004 - val_loss: 0.2288 - val_binary_accuracy: 0.9065\n",
      "Epoch 64/100\n",
      "442/442 [==============================] - 1s 2ms/step - loss: 0.2346 - binary_accuracy: 0.9054 - val_loss: 0.2281 - val_binary_accuracy: 0.9066\n",
      "Epoch 65/100\n",
      "442/442 [==============================] - 1s 2ms/step - loss: 0.2338 - binary_accuracy: 0.9043 - val_loss: 0.2286 - val_binary_accuracy: 0.9078\n",
      "Epoch 66/100\n",
      "442/442 [==============================] - 1s 2ms/step - loss: 0.2383 - binary_accuracy: 0.9024 - val_loss: 0.2276 - val_binary_accuracy: 0.9056\n",
      "Epoch 67/100\n",
      "442/442 [==============================] - 1s 2ms/step - loss: 0.2433 - binary_accuracy: 0.8980 - val_loss: 0.2290 - val_binary_accuracy: 0.9041\n",
      "Epoch 68/100\n",
      "442/442 [==============================] - 1s 2ms/step - loss: 0.2406 - binary_accuracy: 0.9021 - val_loss: 0.2275 - val_binary_accuracy: 0.9069\n",
      "Epoch 69/100\n",
      "442/442 [==============================] - 1s 2ms/step - loss: 0.2362 - binary_accuracy: 0.9042 - val_loss: 0.2280 - val_binary_accuracy: 0.9079\n",
      "Epoch 70/100\n",
      "442/442 [==============================] - 1s 2ms/step - loss: 0.2396 - binary_accuracy: 0.9004 - val_loss: 0.2284 - val_binary_accuracy: 0.9071\n",
      "Epoch 71/100\n",
      "442/442 [==============================] - 1s 2ms/step - loss: 0.2422 - binary_accuracy: 0.9012 - val_loss: 0.2275 - val_binary_accuracy: 0.9060\n",
      "Epoch 72/100\n",
      "442/442 [==============================] - 1s 2ms/step - loss: 0.2388 - binary_accuracy: 0.9019 - val_loss: 0.2277 - val_binary_accuracy: 0.9068\n",
      "Epoch 73/100\n",
      "442/442 [==============================] - 1s 2ms/step - loss: 0.2372 - binary_accuracy: 0.9040 - val_loss: 0.2279 - val_binary_accuracy: 0.9069\n",
      "Epoch 74/100\n",
      "442/442 [==============================] - 1s 2ms/step - loss: 0.2333 - binary_accuracy: 0.9050 - val_loss: 0.2280 - val_binary_accuracy: 0.9061\n",
      "Epoch 75/100\n",
      "442/442 [==============================] - 1s 2ms/step - loss: 0.2423 - binary_accuracy: 0.9007 - val_loss: 0.2282 - val_binary_accuracy: 0.9058\n",
      "Epoch 76/100\n",
      "442/442 [==============================] - 1s 2ms/step - loss: 0.2392 - binary_accuracy: 0.9020 - val_loss: 0.2282 - val_binary_accuracy: 0.9069\n",
      "Epoch 77/100\n",
      "442/442 [==============================] - 1s 2ms/step - loss: 0.2395 - binary_accuracy: 0.9002 - val_loss: 0.2283 - val_binary_accuracy: 0.9055\n",
      "Epoch 78/100\n",
      "442/442 [==============================] - 1s 2ms/step - loss: 0.2396 - binary_accuracy: 0.9035 - val_loss: 0.2284 - val_binary_accuracy: 0.9053\n",
      "Epoch 79/100\n",
      "442/442 [==============================] - 1s 2ms/step - loss: 0.2359 - binary_accuracy: 0.9043 - val_loss: 0.2280 - val_binary_accuracy: 0.9073\n",
      "Epoch 80/100\n",
      "442/442 [==============================] - 1s 2ms/step - loss: 0.2439 - binary_accuracy: 0.9019 - val_loss: 0.2278 - val_binary_accuracy: 0.9074\n",
      "Epoch 81/100\n",
      "442/442 [==============================] - 1s 2ms/step - loss: 0.2383 - binary_accuracy: 0.9033 - val_loss: 0.2279 - val_binary_accuracy: 0.9066\n",
      "Epoch 82/100\n",
      "442/442 [==============================] - 1s 2ms/step - loss: 0.2361 - binary_accuracy: 0.9021 - val_loss: 0.2277 - val_binary_accuracy: 0.9074\n",
      "Epoch 83/100\n",
      "442/442 [==============================] - 1s 2ms/step - loss: 0.2393 - binary_accuracy: 0.9016 - val_loss: 0.2284 - val_binary_accuracy: 0.9076\n",
      "Epoch 84/100\n",
      "442/442 [==============================] - 1s 2ms/step - loss: 0.2442 - binary_accuracy: 0.9006 - val_loss: 0.2297 - val_binary_accuracy: 0.9088\n",
      "Epoch 85/100\n",
      "442/442 [==============================] - 1s 2ms/step - loss: 0.2389 - binary_accuracy: 0.9036 - val_loss: 0.2276 - val_binary_accuracy: 0.9071\n",
      "Epoch 86/100\n",
      "442/442 [==============================] - 1s 2ms/step - loss: 0.2420 - binary_accuracy: 0.9009 - val_loss: 0.2277 - val_binary_accuracy: 0.9078\n",
      "Epoch 87/100\n",
      "442/442 [==============================] - 1s 2ms/step - loss: 0.2447 - binary_accuracy: 0.8996 - val_loss: 0.2290 - val_binary_accuracy: 0.9071\n",
      "Epoch 88/100\n",
      "442/442 [==============================] - 1s 2ms/step - loss: 0.2346 - binary_accuracy: 0.9036 - val_loss: 0.2276 - val_binary_accuracy: 0.9084\n",
      "Epoch 89/100\n",
      "442/442 [==============================] - 1s 2ms/step - loss: 0.2406 - binary_accuracy: 0.9003 - val_loss: 0.2280 - val_binary_accuracy: 0.9063\n",
      "Epoch 90/100\n",
      "442/442 [==============================] - 1s 2ms/step - loss: 0.2334 - binary_accuracy: 0.9039 - val_loss: 0.2283 - val_binary_accuracy: 0.9058\n",
      "Epoch 91/100\n",
      "442/442 [==============================] - 1s 2ms/step - loss: 0.2390 - binary_accuracy: 0.8987 - val_loss: 0.2276 - val_binary_accuracy: 0.9066\n",
      "Epoch 92/100\n",
      "442/442 [==============================] - 1s 2ms/step - loss: 0.2281 - binary_accuracy: 0.9064 - val_loss: 0.2282 - val_binary_accuracy: 0.9066\n",
      "Epoch 93/100\n",
      "442/442 [==============================] - 1s 2ms/step - loss: 0.2419 - binary_accuracy: 0.8998 - val_loss: 0.2286 - val_binary_accuracy: 0.9066\n",
      "Epoch 94/100\n",
      "442/442 [==============================] - 1s 2ms/step - loss: 0.2406 - binary_accuracy: 0.9029 - val_loss: 0.2278 - val_binary_accuracy: 0.9065\n",
      "Epoch 95/100\n",
      "442/442 [==============================] - 1s 2ms/step - loss: 0.2383 - binary_accuracy: 0.9023 - val_loss: 0.2274 - val_binary_accuracy: 0.9060\n",
      "Epoch 96/100\n",
      "442/442 [==============================] - 1s 2ms/step - loss: 0.2371 - binary_accuracy: 0.9043 - val_loss: 0.2280 - val_binary_accuracy: 0.9060\n",
      "Epoch 97/100\n",
      "442/442 [==============================] - 1s 2ms/step - loss: 0.2409 - binary_accuracy: 0.9036 - val_loss: 0.2284 - val_binary_accuracy: 0.9055\n",
      "Epoch 98/100\n",
      "442/442 [==============================] - 1s 2ms/step - loss: 0.2387 - binary_accuracy: 0.9021 - val_loss: 0.2283 - val_binary_accuracy: 0.9058\n",
      "Epoch 99/100\n",
      "442/442 [==============================] - 1s 2ms/step - loss: 0.2401 - binary_accuracy: 0.9039 - val_loss: 0.2288 - val_binary_accuracy: 0.9076\n",
      "Epoch 100/100\n",
      "442/442 [==============================] - 1s 2ms/step - loss: 0.2375 - binary_accuracy: 0.9019 - val_loss: 0.2278 - val_binary_accuracy: 0.9058\n"
     ]
    }
   ],
   "source": [
    "#Training the model with the training data\n",
    "history = model.fit(x1_train, y1_train, batch_size=32, epochs=100,validation_data=(x1_test, y1_test))"
   ]
  },
  {
   "cell_type": "code",
   "execution_count": 21,
   "id": "c0a4836f",
   "metadata": {},
   "outputs": [
    {
     "name": "stderr",
     "output_type": "stream",
     "text": [
      "WARNING:absl:Found untraced functions such as _update_step_xla while saving (showing 1 of 1). These functions will not be directly callable after loading.\n"
     ]
    },
    {
     "name": "stdout",
     "output_type": "stream",
     "text": [
      "INFO:tensorflow:Assets written to: model\\assets\n"
     ]
    },
    {
     "name": "stderr",
     "output_type": "stream",
     "text": [
      "INFO:tensorflow:Assets written to: model\\assets\n"
     ]
    }
   ],
   "source": [
    "# model has a validation accuraccy of 90.58%\n",
    "\n",
    "#Saving our model to local directory\n",
    "model.save('model')"
   ]
  },
  {
   "cell_type": "code",
   "execution_count": null,
   "id": "f2f21887",
   "metadata": {},
   "outputs": [],
   "source": []
  }
 ],
 "metadata": {
  "kernelspec": {
   "display_name": "Python 3",
   "language": "python",
   "name": "python3"
  },
  "language_info": {
   "codemirror_mode": {
    "name": "ipython",
    "version": 3
   },
   "file_extension": ".py",
   "mimetype": "text/x-python",
   "name": "python",
   "nbconvert_exporter": "python",
   "pygments_lexer": "ipython3",
   "version": "3.10.9"
  },
  "papermill": {
   "default_parameters": {},
   "duration": 376.99645,
   "end_time": "2022-03-26T15:14:59.159294",
   "environment_variables": {},
   "exception": null,
   "input_path": "__notebook__.ipynb",
   "output_path": "__notebook__.ipynb",
   "parameters": {},
   "start_time": "2022-03-26T15:08:42.162844",
   "version": "2.3.3"
  },
  "vscode": {
   "interpreter": {
    "hash": "ce1e244e258ab90781388c7694f238eb800755cd07700420753a248941f85d6a"
   }
  }
 },
 "nbformat": 4,
 "nbformat_minor": 5
}
