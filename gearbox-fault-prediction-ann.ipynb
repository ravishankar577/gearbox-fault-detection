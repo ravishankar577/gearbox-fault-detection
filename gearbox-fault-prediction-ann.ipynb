{
 "cells": [
  {
   "cell_type": "code",
   "execution_count": 1,
   "id": "incorrect-companion",
   "metadata": {
    "_cell_guid": "b1076dfc-b9ad-4769-8c92-a6c4dae69d19",
    "_uuid": "8f2839f25d086af736a60e9eeb907d3b93b6e0e5",
    "execution": {
     "iopub.execute_input": "2022-03-26T15:08:50.382117Z",
     "iopub.status.busy": "2022-03-26T15:08:50.380795Z",
     "iopub.status.idle": "2022-03-26T15:08:50.409128Z",
     "shell.execute_reply": "2022-03-26T15:08:50.409955Z"
    },
    "papermill": {
     "duration": 0.062085,
     "end_time": "2022-03-26T15:08:50.410379",
     "exception": false,
     "start_time": "2022-03-26T15:08:50.348294",
     "status": "completed"
    },
    "tags": []
   },
   "outputs": [
    {
     "name": "stdout",
     "output_type": "stream",
     "text": [
      "Data\\broken30hz_stdev_100.csv\n",
      "Data\\healthy30hz_stdev_100.csv\n",
      "Data\\BrokenTooth\\b30hz0.csv\n",
      "Data\\BrokenTooth\\b30hz10.csv\n",
      "Data\\BrokenTooth\\b30hz20.csv\n",
      "Data\\BrokenTooth\\b30hz30.csv\n",
      "Data\\BrokenTooth\\b30hz40.csv\n",
      "Data\\BrokenTooth\\b30hz50.csv\n",
      "Data\\BrokenTooth\\b30hz60.csv\n",
      "Data\\BrokenTooth\\b30hz70.csv\n",
      "Data\\BrokenTooth\\b30hz80.csv\n",
      "Data\\BrokenTooth\\b30hz90.csv\n",
      "Data\\Healthy\\h30hz0.csv\n",
      "Data\\Healthy\\h30hz10.csv\n",
      "Data\\Healthy\\h30hz20.csv\n",
      "Data\\Healthy\\h30hz30.csv\n",
      "Data\\Healthy\\h30hz40.csv\n",
      "Data\\Healthy\\h30hz50.csv\n",
      "Data\\Healthy\\h30hz60.csv\n",
      "Data\\Healthy\\h30hz70.csv\n",
      "Data\\Healthy\\h30hz80.csv\n",
      "Data\\Healthy\\h30hz90.csv\n"
     ]
    }
   ],
   "source": [
    "import numpy as np # linear algebra\n",
    "import pandas as pd # data processing, CSV file I/O (e.g. pd.read_csv)\n",
    "\n",
    "\n",
    "import os\n",
    "for dirname, _, filenames in os.walk('Data'):\n",
    "    for filename in filenames:\n",
    "        print(os.path.join(dirname, filename))"
   ]
  },
  {
   "cell_type": "markdown",
   "id": "consecutive-analyst",
   "metadata": {
    "papermill": {
     "duration": 0.026511,
     "end_time": "2022-03-26T15:08:50.465589",
     "exception": false,
     "start_time": "2022-03-26T15:08:50.439078",
     "status": "completed"
    },
    "tags": []
   },
   "source": [
    "Will be shuffling the final aggregated dataset before using in the model as the data values are sequential. Shuffled dataset will be divided into training and testing. "
   ]
  },
  {
   "cell_type": "code",
   "execution_count": 2,
   "id": "laughing-miniature",
   "metadata": {
    "execution": {
     "iopub.execute_input": "2022-03-26T15:08:50.522587Z",
     "iopub.status.busy": "2022-03-26T15:08:50.521935Z",
     "iopub.status.idle": "2022-03-26T15:08:51.567737Z",
     "shell.execute_reply": "2022-03-26T15:08:51.567009Z"
    },
    "papermill": {
     "duration": 1.075647,
     "end_time": "2022-03-26T15:08:51.567895",
     "exception": false,
     "start_time": "2022-03-26T15:08:50.492248",
     "status": "completed"
    },
    "tags": []
   },
   "outputs": [],
   "source": [
    "import pandas as pd\n",
    "from matplotlib import pyplot\n",
    "import numpy as np\n",
    "from sklearn.model_selection import train_test_split\n",
    "from sklearn import svm\n",
    "from sklearn.metrics import classification_report\n",
    "from sklearn.metrics import accuracy_score\n",
    "from sklearn.utils import shuffle\n",
    "from sklearn.pipeline import Pipeline\n",
    "from sklearn.model_selection import cross_val_score"
   ]
  },
  {
   "cell_type": "markdown",
   "id": "familiar-diploma",
   "metadata": {
    "papermill": {
     "duration": 0.027751,
     "end_time": "2022-03-26T15:08:51.623730",
     "exception": false,
     "start_time": "2022-03-26T15:08:51.595979",
     "status": "completed"
    },
    "tags": []
   },
   "source": [
    "## **Healthy Datas**"
   ]
  },
  {
   "cell_type": "markdown",
   "id": "italic-albany",
   "metadata": {
    "papermill": {
     "duration": 0.02652,
     "end_time": "2022-03-26T15:08:51.677977",
     "exception": false,
     "start_time": "2022-03-26T15:08:51.651457",
     "status": "completed"
    },
    "tags": []
   },
   "source": [
    "Below are all the sensor readings of healthy gears from loading conditions 0% to 90%.  "
   ]
  },
  {
   "cell_type": "code",
   "execution_count": 3,
   "id": "acknowledged-rendering",
   "metadata": {
    "execution": {
     "iopub.execute_input": "2022-03-26T15:08:51.739723Z",
     "iopub.status.busy": "2022-03-26T15:08:51.738906Z",
     "iopub.status.idle": "2022-03-26T15:08:52.905866Z",
     "shell.execute_reply": "2022-03-26T15:08:52.905338Z"
    },
    "papermill": {
     "duration": 1.201047,
     "end_time": "2022-03-26T15:08:52.906010",
     "exception": false,
     "start_time": "2022-03-26T15:08:51.704963",
     "status": "completed"
    },
    "tags": []
   },
   "outputs": [],
   "source": [
    "h30hz0  = pd.read_csv(\"Data/Healthy/h30hz0.csv\")\n",
    "h30hz10 = pd.read_csv(\"Data/Healthy/h30hz10.csv\")\n",
    "h30hz20 = pd.read_csv(\"Data/Healthy/h30hz20.csv\")\n",
    "h30hz30 = pd.read_csv(\"Data/Healthy/h30hz30.csv\")\n",
    "h30hz40 = pd.read_csv(\"Data/Healthy/h30hz40.csv\")\n",
    "h30hz50 = pd.read_csv(\"Data/Healthy/h30hz50.csv\")\n",
    "h30hz60 = pd.read_csv(\"Data/Healthy/h30hz60.csv\")\n",
    "h30hz70 = pd.read_csv(\"Data/Healthy/h30hz70.csv\")\n",
    "h30hz80 = pd.read_csv(\"Data/Healthy/h30hz80.csv\")\n",
    "h30hz90 = pd.read_csv(\"Data/Healthy/h30hz90.csv\")"
   ]
  },
  {
   "cell_type": "markdown",
   "id": "announced-decline",
   "metadata": {
    "papermill": {
     "duration": 0.026521,
     "end_time": "2022-03-26T15:08:52.959484",
     "exception": false,
     "start_time": "2022-03-26T15:08:52.932963",
     "status": "completed"
    },
    "tags": []
   },
   "source": [
    "## **Broken Datas**"
   ]
  },
  {
   "cell_type": "markdown",
   "id": "veterinary-folks",
   "metadata": {
    "papermill": {
     "duration": 0.027998,
     "end_time": "2022-03-26T15:08:53.014577",
     "exception": false,
     "start_time": "2022-03-26T15:08:52.986579",
     "status": "completed"
    },
    "tags": []
   },
   "source": [
    "Below are all the sensor readings of broken gears from loading conditions 0% to 90%.  "
   ]
  },
  {
   "cell_type": "code",
   "execution_count": 4,
   "id": "suburban-zimbabwe",
   "metadata": {
    "execution": {
     "iopub.execute_input": "2022-03-26T15:08:53.076794Z",
     "iopub.status.busy": "2022-03-26T15:08:53.076074Z",
     "iopub.status.idle": "2022-03-26T15:08:54.160693Z",
     "shell.execute_reply": "2022-03-26T15:08:54.161224Z"
    },
    "papermill": {
     "duration": 1.119694,
     "end_time": "2022-03-26T15:08:54.161428",
     "exception": false,
     "start_time": "2022-03-26T15:08:53.041734",
     "status": "completed"
    },
    "tags": []
   },
   "outputs": [],
   "source": [
    "b30hz0  = pd.read_csv(\"Data/BrokenTooth/b30hz0.csv\")\n",
    "b30hz10 = pd.read_csv(\"Data/BrokenTooth/b30hz10.csv\")\n",
    "b30hz20 = pd.read_csv(\"Data/BrokenTooth/b30hz20.csv\")\n",
    "b30hz30 = pd.read_csv(\"Data/BrokenTooth/b30hz30.csv\")\n",
    "b30hz40 = pd.read_csv(\"Data/BrokenTooth/b30hz40.csv\")\n",
    "b30hz50 = pd.read_csv(\"Data/BrokenTooth/b30hz50.csv\")\n",
    "b30hz60 = pd.read_csv(\"Data/BrokenTooth/b30hz60.csv\")\n",
    "b30hz70 = pd.read_csv(\"Data/BrokenTooth/b30hz70.csv\")\n",
    "b30hz80 = pd.read_csv(\"Data/BrokenTooth/b30hz80.csv\")\n",
    "b30hz90 = pd.read_csv(\"Data/BrokenTooth/b30hz90.csv\")"
   ]
  },
  {
   "cell_type": "markdown",
   "id": "political-utility",
   "metadata": {
    "papermill": {
     "duration": 0.026682,
     "end_time": "2022-03-26T15:08:54.215387",
     "exception": false,
     "start_time": "2022-03-26T15:08:54.188705",
     "status": "completed"
    },
    "tags": []
   },
   "source": [
    "Headview of a healthy gear reading from 0% loading"
   ]
  },
  {
   "cell_type": "code",
   "execution_count": 5,
   "id": "imported-motivation",
   "metadata": {
    "execution": {
     "iopub.execute_input": "2022-03-26T15:08:54.281583Z",
     "iopub.status.busy": "2022-03-26T15:08:54.280573Z",
     "iopub.status.idle": "2022-03-26T15:08:54.300018Z",
     "shell.execute_reply": "2022-03-26T15:08:54.299495Z"
    },
    "papermill": {
     "duration": 0.057311,
     "end_time": "2022-03-26T15:08:54.300188",
     "exception": false,
     "start_time": "2022-03-26T15:08:54.242877",
     "status": "completed"
    },
    "tags": []
   },
   "outputs": [
    {
     "data": {
      "text/html": [
       "<div>\n",
       "<style scoped>\n",
       "    .dataframe tbody tr th:only-of-type {\n",
       "        vertical-align: middle;\n",
       "    }\n",
       "\n",
       "    .dataframe tbody tr th {\n",
       "        vertical-align: top;\n",
       "    }\n",
       "\n",
       "    .dataframe thead th {\n",
       "        text-align: right;\n",
       "    }\n",
       "</style>\n",
       "<table border=\"1\" class=\"dataframe\">\n",
       "  <thead>\n",
       "    <tr style=\"text-align: right;\">\n",
       "      <th></th>\n",
       "      <th>a1</th>\n",
       "      <th>a2</th>\n",
       "      <th>a3</th>\n",
       "      <th>a4</th>\n",
       "    </tr>\n",
       "  </thead>\n",
       "  <tbody>\n",
       "    <tr>\n",
       "      <th>0</th>\n",
       "      <td>4.636710</td>\n",
       "      <td>0.516978</td>\n",
       "      <td>-3.205940</td>\n",
       "      <td>1.82241</td>\n",
       "    </tr>\n",
       "    <tr>\n",
       "      <th>1</th>\n",
       "      <td>1.992800</td>\n",
       "      <td>4.184660</td>\n",
       "      <td>-2.740610</td>\n",
       "      <td>2.80436</td>\n",
       "    </tr>\n",
       "    <tr>\n",
       "      <th>2</th>\n",
       "      <td>-3.764110</td>\n",
       "      <td>0.997335</td>\n",
       "      <td>-1.303090</td>\n",
       "      <td>1.83668</td>\n",
       "    </tr>\n",
       "    <tr>\n",
       "      <th>3</th>\n",
       "      <td>-4.558710</td>\n",
       "      <td>6.104330</td>\n",
       "      <td>-1.720690</td>\n",
       "      <td>1.72311</td>\n",
       "    </tr>\n",
       "    <tr>\n",
       "      <th>4</th>\n",
       "      <td>0.575382</td>\n",
       "      <td>0.170980</td>\n",
       "      <td>-0.497967</td>\n",
       "      <td>-1.32895</td>\n",
       "    </tr>\n",
       "  </tbody>\n",
       "</table>\n",
       "</div>"
      ],
      "text/plain": [
       "         a1        a2        a3       a4\n",
       "0  4.636710  0.516978 -3.205940  1.82241\n",
       "1  1.992800  4.184660 -2.740610  2.80436\n",
       "2 -3.764110  0.997335 -1.303090  1.83668\n",
       "3 -4.558710  6.104330 -1.720690  1.72311\n",
       "4  0.575382  0.170980 -0.497967 -1.32895"
      ]
     },
     "execution_count": 5,
     "metadata": {},
     "output_type": "execute_result"
    }
   ],
   "source": [
    "h30hz0.head()"
   ]
  },
  {
   "cell_type": "markdown",
   "id": "proved-monthly",
   "metadata": {
    "papermill": {
     "duration": 0.027168,
     "end_time": "2022-03-26T15:08:54.354925",
     "exception": false,
     "start_time": "2022-03-26T15:08:54.327757",
     "status": "completed"
    },
    "tags": []
   },
   "source": [
    "## Add Load and Failure Column for Healthy\n",
    "\n",
    "### 0 --> Healhty\n",
    "### 1 --> Broken"
   ]
  },
  {
   "cell_type": "code",
   "execution_count": 6,
   "id": "civilian-spirituality",
   "metadata": {
    "_kg_hide-output": true,
    "execution": {
     "iopub.execute_input": "2022-03-26T15:08:54.427313Z",
     "iopub.status.busy": "2022-03-26T15:08:54.426514Z",
     "iopub.status.idle": "2022-03-26T15:08:54.457308Z",
     "shell.execute_reply": "2022-03-26T15:08:54.456607Z"
    },
    "papermill": {
     "duration": 0.074446,
     "end_time": "2022-03-26T15:08:54.457450",
     "exception": false,
     "start_time": "2022-03-26T15:08:54.383004",
     "status": "completed"
    },
    "tags": []
   },
   "outputs": [],
   "source": [
    "failure = 0\n",
    "\n",
    "load = 0\n",
    "\n",
    "h30hz0['load'] = load*np.ones((len(h30hz0.index),1))\n",
    "failureArray = np.zeros((len(h30hz0.index),1))\n",
    "h30hz0['failure'] = failureArray\n",
    "\n",
    "load = 10\n",
    "\n",
    "h30hz10['load'] = load*np.ones((len(h30hz10.index),1))\n",
    "failureArray = np.zeros((len(h30hz10.index),1))\n",
    "h30hz10['failure'] = failureArray\n",
    "\n",
    "load = 20\n",
    "\n",
    "h30hz20['load'] = load*np.ones((len(h30hz20.index),1))\n",
    "failureArray = np.zeros((len(h30hz20.index),1))\n",
    "h30hz20['failure'] = failureArray\n",
    "\n",
    "load = 30\n",
    "\n",
    "h30hz30['load'] = load*np.ones((len(h30hz30.index),1))\n",
    "failureArray = np.zeros((len(h30hz30.index),1))\n",
    "h30hz30['failure'] = failureArray\n",
    "\n",
    "load = 40\n",
    "\n",
    "h30hz40['load'] = load*np.ones((len(h30hz40.index),1))\n",
    "failureArray = np.zeros((len(h30hz40.index),1))\n",
    "h30hz40['failure'] = failureArray\n",
    "\n",
    "load = 50\n",
    "\n",
    "h30hz50['load'] = load*np.ones((len(h30hz50.index),1))\n",
    "failureArray = np.zeros((len(h30hz50.index),1))\n",
    "h30hz50['failure'] = failureArray\n",
    "\n",
    "load = 60\n",
    "\n",
    "h30hz60['load'] = load*np.ones((len(h30hz60.index),1))\n",
    "failureArray = np.zeros((len(h30hz60.index),1))\n",
    "h30hz60['failure'] = failureArray\n",
    "\n",
    "load = 70\n",
    "\n",
    "h30hz70['load'] = load*np.ones((len(h30hz70.index),1))\n",
    "failureArray = np.zeros((len(h30hz70.index),1))\n",
    "h30hz70['failure'] = failureArray\n",
    "\n",
    "load = 80\n",
    "\n",
    "h30hz80['load'] = load*np.ones((len(h30hz80.index),1))\n",
    "failureArray = np.zeros((len(h30hz80.index),1))\n",
    "h30hz80['failure'] = failureArray\n",
    "\n",
    "load = 90\n",
    "\n",
    "h30hz90['load'] = load*np.ones((len(h30hz90.index),1))\n",
    "failureArray = np.zeros((len(h30hz90.index),1))\n",
    "h30hz90['failure'] = failureArray"
   ]
  },
  {
   "cell_type": "markdown",
   "id": "australian-craft",
   "metadata": {
    "papermill": {
     "duration": 0.027863,
     "end_time": "2022-03-26T15:08:54.513097",
     "exception": false,
     "start_time": "2022-03-26T15:08:54.485234",
     "status": "completed"
    },
    "tags": []
   },
   "source": [
    "Checking the new data table with load and healthy condition added"
   ]
  },
  {
   "cell_type": "code",
   "execution_count": 7,
   "id": "handled-society",
   "metadata": {
    "execution": {
     "iopub.execute_input": "2022-03-26T15:08:54.581573Z",
     "iopub.status.busy": "2022-03-26T15:08:54.580630Z",
     "iopub.status.idle": "2022-03-26T15:08:54.585229Z",
     "shell.execute_reply": "2022-03-26T15:08:54.584618Z"
    },
    "papermill": {
     "duration": 0.044765,
     "end_time": "2022-03-26T15:08:54.585363",
     "exception": false,
     "start_time": "2022-03-26T15:08:54.540598",
     "status": "completed"
    },
    "tags": []
   },
   "outputs": [
    {
     "data": {
      "text/html": [
       "<div>\n",
       "<style scoped>\n",
       "    .dataframe tbody tr th:only-of-type {\n",
       "        vertical-align: middle;\n",
       "    }\n",
       "\n",
       "    .dataframe tbody tr th {\n",
       "        vertical-align: top;\n",
       "    }\n",
       "\n",
       "    .dataframe thead th {\n",
       "        text-align: right;\n",
       "    }\n",
       "</style>\n",
       "<table border=\"1\" class=\"dataframe\">\n",
       "  <thead>\n",
       "    <tr style=\"text-align: right;\">\n",
       "      <th></th>\n",
       "      <th>a1</th>\n",
       "      <th>a2</th>\n",
       "      <th>a3</th>\n",
       "      <th>a4</th>\n",
       "      <th>load</th>\n",
       "      <th>failure</th>\n",
       "    </tr>\n",
       "  </thead>\n",
       "  <tbody>\n",
       "    <tr>\n",
       "      <th>0</th>\n",
       "      <td>-0.788245</td>\n",
       "      <td>-3.722690</td>\n",
       "      <td>1.06864</td>\n",
       "      <td>-0.571325</td>\n",
       "      <td>90.0</td>\n",
       "      <td>0.0</td>\n",
       "    </tr>\n",
       "    <tr>\n",
       "      <th>1</th>\n",
       "      <td>5.430420</td>\n",
       "      <td>-0.060704</td>\n",
       "      <td>-4.77016</td>\n",
       "      <td>0.599285</td>\n",
       "      <td>90.0</td>\n",
       "      <td>0.0</td>\n",
       "    </tr>\n",
       "    <tr>\n",
       "      <th>2</th>\n",
       "      <td>-15.461100</td>\n",
       "      <td>1.908580</td>\n",
       "      <td>2.54934</td>\n",
       "      <td>-0.479515</td>\n",
       "      <td>90.0</td>\n",
       "      <td>0.0</td>\n",
       "    </tr>\n",
       "    <tr>\n",
       "      <th>3</th>\n",
       "      <td>-5.376860</td>\n",
       "      <td>-1.321050</td>\n",
       "      <td>3.01826</td>\n",
       "      <td>-0.360609</td>\n",
       "      <td>90.0</td>\n",
       "      <td>0.0</td>\n",
       "    </tr>\n",
       "    <tr>\n",
       "      <th>4</th>\n",
       "      <td>8.875310</td>\n",
       "      <td>3.395750</td>\n",
       "      <td>-1.85842</td>\n",
       "      <td>2.412710</td>\n",
       "      <td>90.0</td>\n",
       "      <td>0.0</td>\n",
       "    </tr>\n",
       "  </tbody>\n",
       "</table>\n",
       "</div>"
      ],
      "text/plain": [
       "          a1        a2       a3        a4  load  failure\n",
       "0  -0.788245 -3.722690  1.06864 -0.571325  90.0      0.0\n",
       "1   5.430420 -0.060704 -4.77016  0.599285  90.0      0.0\n",
       "2 -15.461100  1.908580  2.54934 -0.479515  90.0      0.0\n",
       "3  -5.376860 -1.321050  3.01826 -0.360609  90.0      0.0\n",
       "4   8.875310  3.395750 -1.85842  2.412710  90.0      0.0"
      ]
     },
     "execution_count": 7,
     "metadata": {},
     "output_type": "execute_result"
    }
   ],
   "source": [
    "h30hz90.head()"
   ]
  },
  {
   "cell_type": "markdown",
   "id": "human-lightweight",
   "metadata": {
    "papermill": {
     "duration": 0.02825,
     "end_time": "2022-03-26T15:08:54.642272",
     "exception": false,
     "start_time": "2022-03-26T15:08:54.614022",
     "status": "completed"
    },
    "tags": []
   },
   "source": [
    "## Add Load and Failure Column for Broken"
   ]
  },
  {
   "cell_type": "code",
   "execution_count": 8,
   "id": "blocked-tourism",
   "metadata": {
    "execution": {
     "iopub.execute_input": "2022-03-26T15:08:54.717215Z",
     "iopub.status.busy": "2022-03-26T15:08:54.716022Z",
     "iopub.status.idle": "2022-03-26T15:08:54.748768Z",
     "shell.execute_reply": "2022-03-26T15:08:54.747932Z"
    },
    "papermill": {
     "duration": 0.078301,
     "end_time": "2022-03-26T15:08:54.748939",
     "exception": false,
     "start_time": "2022-03-26T15:08:54.670638",
     "status": "completed"
    },
    "tags": []
   },
   "outputs": [],
   "source": [
    "failure = 1\n",
    "\n",
    "load = 0\n",
    "\n",
    "b30hz0['load'] = load*np.ones((len(b30hz0.index),1))\n",
    "failureArray = np.ones((len(b30hz0.index),1))\n",
    "b30hz0['failure'] = failureArray\n",
    "\n",
    "load = 10 \n",
    "\n",
    "b30hz10['load'] = load*np.ones((len(b30hz10.index),1))\n",
    "failureArray = np.ones((len(b30hz10.index),1))\n",
    "b30hz10['failure'] = failureArray\n",
    "\n",
    "load = 20 \n",
    "\n",
    "b30hz20['load'] = load*np.ones((len(b30hz20.index),1))\n",
    "failureArray = np.ones((len(b30hz20.index),1))\n",
    "b30hz20['failure'] = failureArray\n",
    "\n",
    "load = 30 \n",
    "\n",
    "b30hz30['load'] = load*np.ones((len(b30hz30.index),1))\n",
    "failureArray = np.ones((len(b30hz30.index),1))\n",
    "b30hz30['failure'] = failureArray\n",
    "\n",
    "load = 40 \n",
    "\n",
    "b30hz40['load'] = load*np.ones((len(b30hz40.index),1))\n",
    "failureArray = np.ones((len(b30hz40.index),1))\n",
    "b30hz40['failure'] = failureArray\n",
    "\n",
    "load = 50 \n",
    "\n",
    "b30hz50['load'] = load*np.ones((len(b30hz50.index),1))\n",
    "failureArray = np.ones((len(b30hz50.index),1))\n",
    "b30hz50['failure'] = failureArray\n",
    "\n",
    "load = 60 \n",
    "\n",
    "b30hz60['load'] = load*np.ones((len(b30hz60.index),1))\n",
    "failureArray = np.ones((len(b30hz60.index),1))\n",
    "b30hz60['failure'] = failureArray\n",
    "\n",
    "load = 70 \n",
    "\n",
    "b30hz70['load'] = load*np.ones((len(b30hz70.index),1))\n",
    "failureArray = np.ones((len(b30hz70.index),1))\n",
    "b30hz70['failure'] = failureArray\n",
    "\n",
    "load = 80 \n",
    "\n",
    "b30hz80['load'] = load*np.ones((len(b30hz80.index),1))\n",
    "failureArray = np.ones((len(b30hz80.index),1))\n",
    "b30hz80['failure'] = failureArray\n",
    "\n",
    "load = 90 \n",
    "\n",
    "b30hz90['load'] = load*np.ones((len(b30hz90.index),1))\n",
    "failureArray = np.ones((len(b30hz90.index),1))\n",
    "b30hz90['failure'] = failureArray"
   ]
  },
  {
   "cell_type": "markdown",
   "id": "meaning-madrid",
   "metadata": {
    "papermill": {
     "duration": 0.028131,
     "end_time": "2022-03-26T15:08:54.805499",
     "exception": false,
     "start_time": "2022-03-26T15:08:54.777368",
     "status": "completed"
    },
    "tags": []
   },
   "source": [
    "Checking the new data table with load and broken condition added"
   ]
  },
  {
   "cell_type": "code",
   "execution_count": 9,
   "id": "higher-float",
   "metadata": {
    "execution": {
     "iopub.execute_input": "2022-03-26T15:08:54.875573Z",
     "iopub.status.busy": "2022-03-26T15:08:54.874676Z",
     "iopub.status.idle": "2022-03-26T15:08:54.878550Z",
     "shell.execute_reply": "2022-03-26T15:08:54.879147Z"
    },
    "papermill": {
     "duration": 0.045578,
     "end_time": "2022-03-26T15:08:54.879324",
     "exception": false,
     "start_time": "2022-03-26T15:08:54.833746",
     "status": "completed"
    },
    "tags": []
   },
   "outputs": [
    {
     "data": {
      "text/html": [
       "<div>\n",
       "<style scoped>\n",
       "    .dataframe tbody tr th:only-of-type {\n",
       "        vertical-align: middle;\n",
       "    }\n",
       "\n",
       "    .dataframe tbody tr th {\n",
       "        vertical-align: top;\n",
       "    }\n",
       "\n",
       "    .dataframe thead th {\n",
       "        text-align: right;\n",
       "    }\n",
       "</style>\n",
       "<table border=\"1\" class=\"dataframe\">\n",
       "  <thead>\n",
       "    <tr style=\"text-align: right;\">\n",
       "      <th></th>\n",
       "      <th>a1</th>\n",
       "      <th>a2</th>\n",
       "      <th>a3</th>\n",
       "      <th>a4</th>\n",
       "      <th>load</th>\n",
       "      <th>failure</th>\n",
       "    </tr>\n",
       "  </thead>\n",
       "  <tbody>\n",
       "    <tr>\n",
       "      <th>94459</th>\n",
       "      <td>-2.577360</td>\n",
       "      <td>2.854050</td>\n",
       "      <td>-0.190821</td>\n",
       "      <td>0.292037</td>\n",
       "      <td>40.0</td>\n",
       "      <td>1.0</td>\n",
       "    </tr>\n",
       "    <tr>\n",
       "      <th>94460</th>\n",
       "      <td>-0.521251</td>\n",
       "      <td>0.305434</td>\n",
       "      <td>0.267062</td>\n",
       "      <td>-2.711740</td>\n",
       "      <td>40.0</td>\n",
       "      <td>1.0</td>\n",
       "    </tr>\n",
       "    <tr>\n",
       "      <th>94461</th>\n",
       "      <td>3.355130</td>\n",
       "      <td>-5.245850</td>\n",
       "      <td>1.802400</td>\n",
       "      <td>0.361074</td>\n",
       "      <td>40.0</td>\n",
       "      <td>1.0</td>\n",
       "    </tr>\n",
       "    <tr>\n",
       "      <th>94462</th>\n",
       "      <td>1.605690</td>\n",
       "      <td>-4.910430</td>\n",
       "      <td>2.612900</td>\n",
       "      <td>0.649042</td>\n",
       "      <td>40.0</td>\n",
       "      <td>1.0</td>\n",
       "    </tr>\n",
       "    <tr>\n",
       "      <th>94463</th>\n",
       "      <td>3.939820</td>\n",
       "      <td>1.777420</td>\n",
       "      <td>0.859729</td>\n",
       "      <td>0.218675</td>\n",
       "      <td>40.0</td>\n",
       "      <td>1.0</td>\n",
       "    </tr>\n",
       "  </tbody>\n",
       "</table>\n",
       "</div>"
      ],
      "text/plain": [
       "             a1        a2        a3        a4  load  failure\n",
       "94459 -2.577360  2.854050 -0.190821  0.292037  40.0      1.0\n",
       "94460 -0.521251  0.305434  0.267062 -2.711740  40.0      1.0\n",
       "94461  3.355130 -5.245850  1.802400  0.361074  40.0      1.0\n",
       "94462  1.605690 -4.910430  2.612900  0.649042  40.0      1.0\n",
       "94463  3.939820  1.777420  0.859729  0.218675  40.0      1.0"
      ]
     },
     "execution_count": 9,
     "metadata": {},
     "output_type": "execute_result"
    }
   ],
   "source": [
    "# check\n",
    "b30hz40.tail()"
   ]
  },
  {
   "attachments": {},
   "cell_type": "markdown",
   "id": "decreased-bryan",
   "metadata": {
    "papermill": {
     "duration": 0.028597,
     "end_time": "2022-03-26T15:08:54.936877",
     "exception": false,
     "start_time": "2022-03-26T15:08:54.908280",
     "status": "completed"
    },
    "tags": []
   },
   "source": [
    "## Concat Healthy and Broken"
   ]
  },
  {
   "cell_type": "code",
   "execution_count": 10,
   "id": "upset-county",
   "metadata": {
    "execution": {
     "iopub.execute_input": "2022-03-26T15:08:55.002573Z",
     "iopub.status.busy": "2022-03-26T15:08:55.001257Z",
     "iopub.status.idle": "2022-03-26T15:08:55.073717Z",
     "shell.execute_reply": "2022-03-26T15:08:55.073162Z"
    },
    "papermill": {
     "duration": 0.108163,
     "end_time": "2022-03-26T15:08:55.073855",
     "exception": false,
     "start_time": "2022-03-26T15:08:54.965692",
     "status": "completed"
    },
    "tags": []
   },
   "outputs": [],
   "source": [
    "# Broken \n",
    "\n",
    "broken_df = pd.concat([b30hz0,b30hz10,b30hz20,b30hz30,b30hz40,b30hz50,b30hz60,b30hz70,b30hz80,b30hz90],axis=0,ignore_index=True)"
   ]
  },
  {
   "cell_type": "code",
   "execution_count": 11,
   "id": "expected-professor",
   "metadata": {
    "execution": {
     "iopub.execute_input": "2022-03-26T15:08:55.138504Z",
     "iopub.status.busy": "2022-03-26T15:08:55.137333Z",
     "iopub.status.idle": "2022-03-26T15:08:55.203558Z",
     "shell.execute_reply": "2022-03-26T15:08:55.202838Z"
    },
    "papermill": {
     "duration": 0.100789,
     "end_time": "2022-03-26T15:08:55.203702",
     "exception": false,
     "start_time": "2022-03-26T15:08:55.102913",
     "status": "completed"
    },
    "tags": []
   },
   "outputs": [],
   "source": [
    "# Healthy\n",
    "\n",
    "healthy_df = pd.concat([h30hz0,h30hz10,h30hz20,h30hz30,h30hz40,h30hz50,h30hz60,h30hz70,h30hz80,h30hz90],axis=0,ignore_index=True)"
   ]
  },
  {
   "cell_type": "code",
   "execution_count": 25,
   "id": "convinced-graphics",
   "metadata": {
    "execution": {
     "iopub.execute_input": "2022-03-26T15:08:55.276538Z",
     "iopub.status.busy": "2022-03-26T15:08:55.275542Z",
     "iopub.status.idle": "2022-03-26T15:08:55.280315Z",
     "shell.execute_reply": "2022-03-26T15:08:55.279648Z"
    },
    "papermill": {
     "duration": 0.047578,
     "end_time": "2022-03-26T15:08:55.280474",
     "exception": false,
     "start_time": "2022-03-26T15:08:55.232896",
     "status": "completed"
    },
    "tags": []
   },
   "outputs": [],
   "source": [
    "# # check \n",
    "# healthy_df.tail()"
   ]
  },
  {
   "cell_type": "code",
   "execution_count": 26,
   "id": "frozen-oxford",
   "metadata": {
    "execution": {
     "iopub.execute_input": "2022-03-26T15:08:55.354200Z",
     "iopub.status.busy": "2022-03-26T15:08:55.353292Z",
     "iopub.status.idle": "2022-03-26T15:08:55.357333Z",
     "shell.execute_reply": "2022-03-26T15:08:55.357798Z"
    },
    "papermill": {
     "duration": 0.047076,
     "end_time": "2022-03-26T15:08:55.357972",
     "exception": false,
     "start_time": "2022-03-26T15:08:55.310896",
     "status": "completed"
    },
    "tags": []
   },
   "outputs": [],
   "source": [
    "# # check \n",
    "# broken_df.tail()"
   ]
  },
  {
   "cell_type": "code",
   "execution_count": 14,
   "id": "major-humidity",
   "metadata": {
    "execution": {
     "iopub.execute_input": "2022-03-26T15:08:55.425890Z",
     "iopub.status.busy": "2022-03-26T15:08:55.424759Z",
     "iopub.status.idle": "2022-03-26T15:08:55.484529Z",
     "shell.execute_reply": "2022-03-26T15:08:55.483896Z"
    },
    "papermill": {
     "duration": 0.095703,
     "end_time": "2022-03-26T15:08:55.484679",
     "exception": false,
     "start_time": "2022-03-26T15:08:55.388976",
     "status": "completed"
    },
    "tags": []
   },
   "outputs": [],
   "source": [
    "gear_data   = pd.concat([broken_df,healthy_df], axis =0)"
   ]
  },
  {
   "cell_type": "markdown",
   "id": "lesser-suicide",
   "metadata": {
    "papermill": {
     "duration": 0.030297,
     "end_time": "2022-03-26T15:08:55.546767",
     "exception": false,
     "start_time": "2022-03-26T15:08:55.516470",
     "status": "completed"
    },
    "tags": []
   },
   "source": [
    "Checking the final aggregated dataset"
   ]
  },
  {
   "cell_type": "code",
   "execution_count": 27,
   "id": "conceptual-transport",
   "metadata": {
    "execution": {
     "iopub.execute_input": "2022-03-26T15:08:55.620828Z",
     "iopub.status.busy": "2022-03-26T15:08:55.620199Z",
     "iopub.status.idle": "2022-03-26T15:08:55.624670Z",
     "shell.execute_reply": "2022-03-26T15:08:55.624043Z"
    },
    "papermill": {
     "duration": 0.047314,
     "end_time": "2022-03-26T15:08:55.624806",
     "exception": false,
     "start_time": "2022-03-26T15:08:55.577492",
     "status": "completed"
    },
    "tags": []
   },
   "outputs": [],
   "source": [
    "# gear_data.head()"
   ]
  },
  {
   "cell_type": "code",
   "execution_count": 28,
   "id": "directed-artist",
   "metadata": {
    "execution": {
     "iopub.execute_input": "2022-03-26T15:08:55.701161Z",
     "iopub.status.busy": "2022-03-26T15:08:55.700497Z",
     "iopub.status.idle": "2022-03-26T15:08:55.705012Z",
     "shell.execute_reply": "2022-03-26T15:08:55.704478Z"
    },
    "papermill": {
     "duration": 0.04887,
     "end_time": "2022-03-26T15:08:55.705169",
     "exception": false,
     "start_time": "2022-03-26T15:08:55.656299",
     "status": "completed"
    },
    "tags": []
   },
   "outputs": [],
   "source": [
    "\n",
    "# gear_data.tail()"
   ]
  },
  {
   "cell_type": "code",
   "execution_count": 17,
   "id": "6beff0a3",
   "metadata": {},
   "outputs": [],
   "source": [
    "gear_data[\"load\"]= gear_data[\"load\"]/100"
   ]
  },
  {
   "cell_type": "code",
   "execution_count": 18,
   "id": "84a3fc48",
   "metadata": {},
   "outputs": [
    {
     "data": {
      "text/html": [
       "<div>\n",
       "<style scoped>\n",
       "    .dataframe tbody tr th:only-of-type {\n",
       "        vertical-align: middle;\n",
       "    }\n",
       "\n",
       "    .dataframe tbody tr th {\n",
       "        vertical-align: top;\n",
       "    }\n",
       "\n",
       "    .dataframe thead th {\n",
       "        text-align: right;\n",
       "    }\n",
       "</style>\n",
       "<table border=\"1\" class=\"dataframe\">\n",
       "  <thead>\n",
       "    <tr style=\"text-align: right;\">\n",
       "      <th></th>\n",
       "      <th>a1</th>\n",
       "      <th>a2</th>\n",
       "      <th>a3</th>\n",
       "      <th>a4</th>\n",
       "      <th>load</th>\n",
       "      <th>failure</th>\n",
       "    </tr>\n",
       "  </thead>\n",
       "  <tbody>\n",
       "    <tr>\n",
       "      <th>0</th>\n",
       "      <td>2.350390</td>\n",
       "      <td>1.454870</td>\n",
       "      <td>-1.667080</td>\n",
       "      <td>-2.055610</td>\n",
       "      <td>0.0</td>\n",
       "      <td>1.0</td>\n",
       "    </tr>\n",
       "    <tr>\n",
       "      <th>1</th>\n",
       "      <td>2.452970</td>\n",
       "      <td>1.400100</td>\n",
       "      <td>-2.825100</td>\n",
       "      <td>0.984487</td>\n",
       "      <td>0.0</td>\n",
       "      <td>1.0</td>\n",
       "    </tr>\n",
       "    <tr>\n",
       "      <th>2</th>\n",
       "      <td>-0.241284</td>\n",
       "      <td>-0.267390</td>\n",
       "      <td>0.793540</td>\n",
       "      <td>0.605862</td>\n",
       "      <td>0.0</td>\n",
       "      <td>1.0</td>\n",
       "    </tr>\n",
       "    <tr>\n",
       "      <th>3</th>\n",
       "      <td>1.130270</td>\n",
       "      <td>-0.890918</td>\n",
       "      <td>0.696969</td>\n",
       "      <td>0.613068</td>\n",
       "      <td>0.0</td>\n",
       "      <td>1.0</td>\n",
       "    </tr>\n",
       "    <tr>\n",
       "      <th>4</th>\n",
       "      <td>-1.296140</td>\n",
       "      <td>0.980479</td>\n",
       "      <td>-1.130560</td>\n",
       "      <td>-0.346971</td>\n",
       "      <td>0.0</td>\n",
       "      <td>1.0</td>\n",
       "    </tr>\n",
       "    <tr>\n",
       "      <th>...</th>\n",
       "      <td>...</td>\n",
       "      <td>...</td>\n",
       "      <td>...</td>\n",
       "      <td>...</td>\n",
       "      <td>...</td>\n",
       "      <td>...</td>\n",
       "    </tr>\n",
       "    <tr>\n",
       "      <th>1015803</th>\n",
       "      <td>0.677448</td>\n",
       "      <td>-3.234410</td>\n",
       "      <td>-1.725990</td>\n",
       "      <td>-3.143020</td>\n",
       "      <td>0.9</td>\n",
       "      <td>0.0</td>\n",
       "    </tr>\n",
       "    <tr>\n",
       "      <th>1015804</th>\n",
       "      <td>-10.575400</td>\n",
       "      <td>7.725400</td>\n",
       "      <td>-2.184010</td>\n",
       "      <td>2.569650</td>\n",
       "      <td>0.9</td>\n",
       "      <td>0.0</td>\n",
       "    </tr>\n",
       "    <tr>\n",
       "      <th>1015805</th>\n",
       "      <td>-4.033290</td>\n",
       "      <td>2.576920</td>\n",
       "      <td>1.468430</td>\n",
       "      <td>2.728910</td>\n",
       "      <td>0.9</td>\n",
       "      <td>0.0</td>\n",
       "    </tr>\n",
       "    <tr>\n",
       "      <th>1015806</th>\n",
       "      <td>1.868670</td>\n",
       "      <td>-5.089400</td>\n",
       "      <td>5.342290</td>\n",
       "      <td>-1.365630</td>\n",
       "      <td>0.9</td>\n",
       "      <td>0.0</td>\n",
       "    </tr>\n",
       "    <tr>\n",
       "      <th>1015807</th>\n",
       "      <td>7.581480</td>\n",
       "      <td>6.205960</td>\n",
       "      <td>-6.121330</td>\n",
       "      <td>11.548300</td>\n",
       "      <td>0.9</td>\n",
       "      <td>0.0</td>\n",
       "    </tr>\n",
       "  </tbody>\n",
       "</table>\n",
       "<p>2021119 rows × 6 columns</p>\n",
       "</div>"
      ],
      "text/plain": [
       "                a1        a2        a3         a4  load  failure\n",
       "0         2.350390  1.454870 -1.667080  -2.055610   0.0      1.0\n",
       "1         2.452970  1.400100 -2.825100   0.984487   0.0      1.0\n",
       "2        -0.241284 -0.267390  0.793540   0.605862   0.0      1.0\n",
       "3         1.130270 -0.890918  0.696969   0.613068   0.0      1.0\n",
       "4        -1.296140  0.980479 -1.130560  -0.346971   0.0      1.0\n",
       "...            ...       ...       ...        ...   ...      ...\n",
       "1015803   0.677448 -3.234410 -1.725990  -3.143020   0.9      0.0\n",
       "1015804 -10.575400  7.725400 -2.184010   2.569650   0.9      0.0\n",
       "1015805  -4.033290  2.576920  1.468430   2.728910   0.9      0.0\n",
       "1015806   1.868670 -5.089400  5.342290  -1.365630   0.9      0.0\n",
       "1015807   7.581480  6.205960 -6.121330  11.548300   0.9      0.0\n",
       "\n",
       "[2021119 rows x 6 columns]"
      ]
     },
     "execution_count": 18,
     "metadata": {},
     "output_type": "execute_result"
    }
   ],
   "source": [
    "gear_data"
   ]
  },
  {
   "cell_type": "code",
   "execution_count": 26,
   "id": "ad22ab64",
   "metadata": {},
   "outputs": [],
   "source": [
    "broken_dataset  = \"Data/broken30hz_stdev_100.csv\"\n",
    "healthy_dataset = \"Data/healthy30hz_stdev_100.csv\""
   ]
  },
  {
   "cell_type": "code",
   "execution_count": 27,
   "id": "42dc8569",
   "metadata": {},
   "outputs": [
    {
     "data": {
      "text/html": [
       "<div>\n",
       "<style scoped>\n",
       "    .dataframe tbody tr th:only-of-type {\n",
       "        vertical-align: middle;\n",
       "    }\n",
       "\n",
       "    .dataframe tbody tr th {\n",
       "        vertical-align: top;\n",
       "    }\n",
       "\n",
       "    .dataframe thead th {\n",
       "        text-align: right;\n",
       "    }\n",
       "</style>\n",
       "<table border=\"1\" class=\"dataframe\">\n",
       "  <thead>\n",
       "    <tr style=\"text-align: right;\">\n",
       "      <th></th>\n",
       "      <th>a1</th>\n",
       "      <th>a2</th>\n",
       "      <th>a3</th>\n",
       "      <th>a4</th>\n",
       "      <th>load</th>\n",
       "      <th>failure</th>\n",
       "    </tr>\n",
       "  </thead>\n",
       "  <tbody>\n",
       "    <tr>\n",
       "      <th>count</th>\n",
       "      <td>20203.000000</td>\n",
       "      <td>20203.000000</td>\n",
       "      <td>20203.000000</td>\n",
       "      <td>20203.000000</td>\n",
       "      <td>20203.000000</td>\n",
       "      <td>20203.000000</td>\n",
       "    </tr>\n",
       "    <tr>\n",
       "      <th>mean</th>\n",
       "      <td>5.766842</td>\n",
       "      <td>4.266330</td>\n",
       "      <td>3.847555</td>\n",
       "      <td>4.276706</td>\n",
       "      <td>45.644706</td>\n",
       "      <td>0.497401</td>\n",
       "    </tr>\n",
       "    <tr>\n",
       "      <th>std</th>\n",
       "      <td>2.219236</td>\n",
       "      <td>1.162870</td>\n",
       "      <td>1.020591</td>\n",
       "      <td>1.228792</td>\n",
       "      <td>28.660383</td>\n",
       "      <td>0.500006</td>\n",
       "    </tr>\n",
       "    <tr>\n",
       "      <th>min</th>\n",
       "      <td>1.468928</td>\n",
       "      <td>1.272738</td>\n",
       "      <td>0.990336</td>\n",
       "      <td>1.111679</td>\n",
       "      <td>0.000000</td>\n",
       "      <td>0.000000</td>\n",
       "    </tr>\n",
       "    <tr>\n",
       "      <th>25%</th>\n",
       "      <td>4.164285</td>\n",
       "      <td>3.473209</td>\n",
       "      <td>3.118392</td>\n",
       "      <td>3.409206</td>\n",
       "      <td>20.000000</td>\n",
       "      <td>0.000000</td>\n",
       "    </tr>\n",
       "    <tr>\n",
       "      <th>50%</th>\n",
       "      <td>5.337988</td>\n",
       "      <td>4.146414</td>\n",
       "      <td>3.779156</td>\n",
       "      <td>4.211713</td>\n",
       "      <td>50.000000</td>\n",
       "      <td>0.000000</td>\n",
       "    </tr>\n",
       "    <tr>\n",
       "      <th>75%</th>\n",
       "      <td>7.003621</td>\n",
       "      <td>4.903647</td>\n",
       "      <td>4.521386</td>\n",
       "      <td>5.078614</td>\n",
       "      <td>70.000000</td>\n",
       "      <td>1.000000</td>\n",
       "    </tr>\n",
       "    <tr>\n",
       "      <th>max</th>\n",
       "      <td>23.909199</td>\n",
       "      <td>10.984053</td>\n",
       "      <td>8.273939</td>\n",
       "      <td>10.609798</td>\n",
       "      <td>90.000000</td>\n",
       "      <td>1.000000</td>\n",
       "    </tr>\n",
       "  </tbody>\n",
       "</table>\n",
       "</div>"
      ],
      "text/plain": [
       "                 a1            a2            a3            a4          load  \\\n",
       "count  20203.000000  20203.000000  20203.000000  20203.000000  20203.000000   \n",
       "mean       5.766842      4.266330      3.847555      4.276706     45.644706   \n",
       "std        2.219236      1.162870      1.020591      1.228792     28.660383   \n",
       "min        1.468928      1.272738      0.990336      1.111679      0.000000   \n",
       "25%        4.164285      3.473209      3.118392      3.409206     20.000000   \n",
       "50%        5.337988      4.146414      3.779156      4.211713     50.000000   \n",
       "75%        7.003621      4.903647      4.521386      5.078614     70.000000   \n",
       "max       23.909199     10.984053      8.273939     10.609798     90.000000   \n",
       "\n",
       "            failure  \n",
       "count  20203.000000  \n",
       "mean       0.497401  \n",
       "std        0.500006  \n",
       "min        0.000000  \n",
       "25%        0.000000  \n",
       "50%        0.000000  \n",
       "75%        1.000000  \n",
       "max        1.000000  "
      ]
     },
     "execution_count": 27,
     "metadata": {},
     "output_type": "execute_result"
    }
   ],
   "source": [
    "healthyDataset = pd.read_csv(healthy_dataset)\n",
    "brokenDataset = pd.read_csv(broken_dataset)\n",
    "\n",
    "dataset = pd.concat([healthyDataset, brokenDataset], axis=0)\n",
    "dataset.describe()"
   ]
  },
  {
   "cell_type": "code",
   "execution_count": 28,
   "id": "b7f70cf9",
   "metadata": {},
   "outputs": [],
   "source": [
    "dataset[\"load\"]= dataset[\"load\"]/100"
   ]
  },
  {
   "cell_type": "code",
   "execution_count": 29,
   "id": "090d4aa1",
   "metadata": {},
   "outputs": [
    {
     "data": {
      "text/html": [
       "<div>\n",
       "<style scoped>\n",
       "    .dataframe tbody tr th:only-of-type {\n",
       "        vertical-align: middle;\n",
       "    }\n",
       "\n",
       "    .dataframe tbody tr th {\n",
       "        vertical-align: top;\n",
       "    }\n",
       "\n",
       "    .dataframe thead th {\n",
       "        text-align: right;\n",
       "    }\n",
       "</style>\n",
       "<table border=\"1\" class=\"dataframe\">\n",
       "  <thead>\n",
       "    <tr style=\"text-align: right;\">\n",
       "      <th></th>\n",
       "      <th>a1</th>\n",
       "      <th>a2</th>\n",
       "      <th>a3</th>\n",
       "      <th>a4</th>\n",
       "      <th>load</th>\n",
       "      <th>failure</th>\n",
       "    </tr>\n",
       "  </thead>\n",
       "  <tbody>\n",
       "    <tr>\n",
       "      <th>0</th>\n",
       "      <td>4.518469</td>\n",
       "      <td>2.627219</td>\n",
       "      <td>3.129601</td>\n",
       "      <td>3.046165</td>\n",
       "      <td>0.0</td>\n",
       "      <td>0</td>\n",
       "    </tr>\n",
       "    <tr>\n",
       "      <th>1</th>\n",
       "      <td>3.463637</td>\n",
       "      <td>2.616907</td>\n",
       "      <td>2.286667</td>\n",
       "      <td>2.389276</td>\n",
       "      <td>0.0</td>\n",
       "      <td>0</td>\n",
       "    </tr>\n",
       "    <tr>\n",
       "      <th>2</th>\n",
       "      <td>4.461867</td>\n",
       "      <td>2.833214</td>\n",
       "      <td>2.413283</td>\n",
       "      <td>2.977934</td>\n",
       "      <td>0.0</td>\n",
       "      <td>0</td>\n",
       "    </tr>\n",
       "    <tr>\n",
       "      <th>3</th>\n",
       "      <td>4.381037</td>\n",
       "      <td>4.703040</td>\n",
       "      <td>2.668196</td>\n",
       "      <td>2.650610</td>\n",
       "      <td>0.0</td>\n",
       "      <td>0</td>\n",
       "    </tr>\n",
       "    <tr>\n",
       "      <th>4</th>\n",
       "      <td>3.880276</td>\n",
       "      <td>3.054690</td>\n",
       "      <td>2.502711</td>\n",
       "      <td>2.147417</td>\n",
       "      <td>0.0</td>\n",
       "      <td>0</td>\n",
       "    </tr>\n",
       "    <tr>\n",
       "      <th>...</th>\n",
       "      <td>...</td>\n",
       "      <td>...</td>\n",
       "      <td>...</td>\n",
       "      <td>...</td>\n",
       "      <td>...</td>\n",
       "      <td>...</td>\n",
       "    </tr>\n",
       "    <tr>\n",
       "      <th>10044</th>\n",
       "      <td>4.020584</td>\n",
       "      <td>4.213608</td>\n",
       "      <td>3.332272</td>\n",
       "      <td>4.147442</td>\n",
       "      <td>0.9</td>\n",
       "      <td>1</td>\n",
       "    </tr>\n",
       "    <tr>\n",
       "      <th>10045</th>\n",
       "      <td>4.842131</td>\n",
       "      <td>6.242672</td>\n",
       "      <td>4.369814</td>\n",
       "      <td>5.759370</td>\n",
       "      <td>0.9</td>\n",
       "      <td>1</td>\n",
       "    </tr>\n",
       "    <tr>\n",
       "      <th>10046</th>\n",
       "      <td>4.387001</td>\n",
       "      <td>4.183584</td>\n",
       "      <td>4.093012</td>\n",
       "      <td>5.853607</td>\n",
       "      <td>0.9</td>\n",
       "      <td>1</td>\n",
       "    </tr>\n",
       "    <tr>\n",
       "      <th>10047</th>\n",
       "      <td>3.549780</td>\n",
       "      <td>3.318551</td>\n",
       "      <td>3.709936</td>\n",
       "      <td>5.245193</td>\n",
       "      <td>0.9</td>\n",
       "      <td>1</td>\n",
       "    </tr>\n",
       "    <tr>\n",
       "      <th>10048</th>\n",
       "      <td>6.136139</td>\n",
       "      <td>5.357831</td>\n",
       "      <td>5.037464</td>\n",
       "      <td>5.913611</td>\n",
       "      <td>0.9</td>\n",
       "      <td>1</td>\n",
       "    </tr>\n",
       "  </tbody>\n",
       "</table>\n",
       "<p>20203 rows × 6 columns</p>\n",
       "</div>"
      ],
      "text/plain": [
       "             a1        a2        a3        a4  load  failure\n",
       "0      4.518469  2.627219  3.129601  3.046165   0.0        0\n",
       "1      3.463637  2.616907  2.286667  2.389276   0.0        0\n",
       "2      4.461867  2.833214  2.413283  2.977934   0.0        0\n",
       "3      4.381037  4.703040  2.668196  2.650610   0.0        0\n",
       "4      3.880276  3.054690  2.502711  2.147417   0.0        0\n",
       "...         ...       ...       ...       ...   ...      ...\n",
       "10044  4.020584  4.213608  3.332272  4.147442   0.9        1\n",
       "10045  4.842131  6.242672  4.369814  5.759370   0.9        1\n",
       "10046  4.387001  4.183584  4.093012  5.853607   0.9        1\n",
       "10047  3.549780  3.318551  3.709936  5.245193   0.9        1\n",
       "10048  6.136139  5.357831  5.037464  5.913611   0.9        1\n",
       "\n",
       "[20203 rows x 6 columns]"
      ]
     },
     "execution_count": 29,
     "metadata": {},
     "output_type": "execute_result"
    }
   ],
   "source": [
    "dataset"
   ]
  },
  {
   "cell_type": "code",
   "execution_count": 39,
   "id": "1aadaa5b",
   "metadata": {},
   "outputs": [
    {
     "name": "stdout",
     "output_type": "stream",
     "text": [
      "a1 max value:  23.909198829607966\n",
      "a1 min value:  1.4689275707806346\n",
      "a2 max value:  10.984053443065797\n",
      "a2 min value:  1.2727376138671107\n",
      "a3 max value:  8.273938829112943\n",
      "a3 min value:  0.9903356318147843\n",
      "a4 max value:  10.609798141066044\n",
      "a4 min value:  1.1116785206448432\n"
     ]
    }
   ],
   "source": [
    "#Range of values for each sensor type\n",
    "print(\"a1 max value: \",dataset.a1.max())\n",
    "print(\"a1 min value: \",dataset.a1.min())\n",
    "print(\"a2 max value: \",dataset.a2.max())\n",
    "print(\"a2 min value: \",dataset.a2.min())\n",
    "print(\"a3 max value: \",dataset.a3.max())\n",
    "print(\"a3 min value: \",dataset.a3.min())\n",
    "print(\"a4 max value: \",dataset.a4.max())\n",
    "print(\"a4 min value: \",dataset.a4.min())\n"
   ]
  },
  {
   "attachments": {},
   "cell_type": "markdown",
   "id": "better-programming",
   "metadata": {
    "papermill": {
     "duration": 0.032113,
     "end_time": "2022-03-26T15:08:55.770103",
     "exception": false,
     "start_time": "2022-03-26T15:08:55.737990",
     "status": "completed"
    },
    "tags": []
   },
   "source": [
    "## Modelling ANN"
   ]
  },
  {
   "cell_type": "code",
   "execution_count": 23,
   "id": "suburban-charm",
   "metadata": {
    "execution": {
     "iopub.execute_input": "2022-03-26T15:08:55.840103Z",
     "iopub.status.busy": "2022-03-26T15:08:55.839441Z",
     "iopub.status.idle": "2022-03-26T15:08:55.843846Z",
     "shell.execute_reply": "2022-03-26T15:08:55.843217Z"
    },
    "papermill": {
     "duration": 0.041674,
     "end_time": "2022-03-26T15:08:55.844014",
     "exception": false,
     "start_time": "2022-03-26T15:08:55.802340",
     "status": "completed"
    },
    "tags": []
   },
   "outputs": [],
   "source": [
    "training_features = ['a1', 'a2', 'a3', 'a4', 'load']\n",
    "label = ['failure']"
   ]
  },
  {
   "cell_type": "code",
   "execution_count": 24,
   "id": "secondary-single",
   "metadata": {
    "execution": {
     "iopub.execute_input": "2022-03-26T15:08:55.952327Z",
     "iopub.status.busy": "2022-03-26T15:08:55.951615Z",
     "iopub.status.idle": "2022-03-26T15:08:55.954894Z",
     "shell.execute_reply": "2022-03-26T15:08:55.954287Z"
    },
    "papermill": {
     "duration": 0.07899,
     "end_time": "2022-03-26T15:08:55.955038",
     "exception": false,
     "start_time": "2022-03-26T15:08:55.876048",
     "status": "completed"
    },
    "tags": []
   },
   "outputs": [
    {
     "data": {
      "text/plain": [
       "(20203, 5)"
      ]
     },
     "execution_count": 24,
     "metadata": {},
     "output_type": "execute_result"
    }
   ],
   "source": [
    "x = dataset[training_features]\n",
    "x.shape #training features of consists of 2021119 rows and 5 columns"
   ]
  },
  {
   "cell_type": "code",
   "execution_count": 25,
   "id": "expired-costume",
   "metadata": {
    "execution": {
     "iopub.execute_input": "2022-03-26T15:08:56.036636Z",
     "iopub.status.busy": "2022-03-26T15:08:56.035927Z",
     "iopub.status.idle": "2022-03-26T15:08:56.039599Z",
     "shell.execute_reply": "2022-03-26T15:08:56.040228Z"
    },
    "papermill": {
     "duration": 0.051073,
     "end_time": "2022-03-26T15:08:56.040405",
     "exception": false,
     "start_time": "2022-03-26T15:08:55.989332",
     "status": "completed"
    },
    "tags": []
   },
   "outputs": [
    {
     "data": {
      "text/plain": [
       "(20203, 1)"
      ]
     },
     "execution_count": 25,
     "metadata": {},
     "output_type": "execute_result"
    }
   ],
   "source": [
    "y = dataset[label]\n",
    "y.shape #label data consists of 2021119 rows and 1 col "
   ]
  },
  {
   "cell_type": "code",
   "execution_count": 26,
   "id": "eight-grove",
   "metadata": {
    "execution": {
     "iopub.execute_input": "2022-03-26T15:08:56.109271Z",
     "iopub.status.busy": "2022-03-26T15:08:56.108627Z",
     "iopub.status.idle": "2022-03-26T15:08:56.508242Z",
     "shell.execute_reply": "2022-03-26T15:08:56.507520Z"
    },
    "papermill": {
     "duration": 0.435124,
     "end_time": "2022-03-26T15:08:56.508390",
     "exception": false,
     "start_time": "2022-03-26T15:08:56.073266",
     "status": "completed"
    },
    "tags": []
   },
   "outputs": [],
   "source": [
    "x,y = shuffle(x,y)"
   ]
  },
  {
   "cell_type": "code",
   "execution_count": 22,
   "id": "comprehensive-census",
   "metadata": {
    "execution": {
     "iopub.execute_input": "2022-03-26T15:08:56.578321Z",
     "iopub.status.busy": "2022-03-26T15:08:56.577370Z",
     "iopub.status.idle": "2022-03-26T15:08:56.582029Z",
     "shell.execute_reply": "2022-03-26T15:08:56.582577Z"
    },
    "papermill": {
     "duration": 0.041127,
     "end_time": "2022-03-26T15:08:56.582744",
     "exception": false,
     "start_time": "2022-03-26T15:08:56.541617",
     "status": "completed"
    },
    "tags": []
   },
   "outputs": [],
   "source": [
    "# x1=x.head(60000)\n",
    "# y1=y.head(60000)"
   ]
  },
  {
   "cell_type": "code",
   "execution_count": 27,
   "id": "lesser-calcium",
   "metadata": {
    "execution": {
     "iopub.execute_input": "2022-03-26T15:08:56.652716Z",
     "iopub.status.busy": "2022-03-26T15:08:56.651727Z",
     "iopub.status.idle": "2022-03-26T15:08:56.662104Z",
     "shell.execute_reply": "2022-03-26T15:08:56.662613Z"
    },
    "papermill": {
     "duration": 0.046975,
     "end_time": "2022-03-26T15:08:56.662785",
     "exception": false,
     "start_time": "2022-03-26T15:08:56.615810",
     "status": "completed"
    },
    "tags": []
   },
   "outputs": [],
   "source": [
    "x1,y1 = shuffle(x,y)\n"
   ]
  },
  {
   "cell_type": "code",
   "execution_count": 28,
   "id": "specialized-guyana",
   "metadata": {
    "execution": {
     "iopub.execute_input": "2022-03-26T15:08:56.733999Z",
     "iopub.status.busy": "2022-03-26T15:08:56.733420Z",
     "iopub.status.idle": "2022-03-26T15:08:56.745001Z",
     "shell.execute_reply": "2022-03-26T15:08:56.745555Z"
    },
    "papermill": {
     "duration": 0.049298,
     "end_time": "2022-03-26T15:08:56.745726",
     "exception": false,
     "start_time": "2022-03-26T15:08:56.696428",
     "status": "completed"
    },
    "tags": []
   },
   "outputs": [],
   "source": [
    "x1_train, x1_test, y1_train, y1_test = train_test_split(x1, y1, test_size=0.3, random_state=42)"
   ]
  },
  {
   "cell_type": "code",
   "execution_count": 29,
   "id": "after-indicator",
   "metadata": {
    "execution": {
     "iopub.execute_input": "2022-03-26T15:08:56.815573Z",
     "iopub.status.busy": "2022-03-26T15:08:56.814948Z",
     "iopub.status.idle": "2022-03-26T15:08:56.819923Z",
     "shell.execute_reply": "2022-03-26T15:08:56.820504Z"
    },
    "papermill": {
     "duration": 0.041487,
     "end_time": "2022-03-26T15:08:56.820662",
     "exception": false,
     "start_time": "2022-03-26T15:08:56.779175",
     "status": "completed"
    },
    "tags": []
   },
   "outputs": [
    {
     "data": {
      "text/plain": [
       "((14142, 5), (6061, 5), (14142, 1), (6061, 1))"
      ]
     },
     "execution_count": 29,
     "metadata": {},
     "output_type": "execute_result"
    }
   ],
   "source": [
    "x1_train.shape,x1_test.shape, y1_train.shape, y1_test.shape "
   ]
  },
  {
   "cell_type": "code",
   "execution_count": 30,
   "id": "b6ad1d6e",
   "metadata": {},
   "outputs": [],
   "source": [
    "from keras import Sequential\n",
    "from keras.layers import BatchNormalization, Dense, Activation"
   ]
  },
  {
   "cell_type": "code",
   "execution_count": 31,
   "id": "b2746924",
   "metadata": {},
   "outputs": [],
   "source": [
    "model = Sequential()\n",
    "model.add(BatchNormalization())\n",
    "model.add(Dense(1))\n",
    "model.add(Activation('sigmoid'))\n",
    "model.compile(optimizer='SGD',\n",
    "              loss='binary_crossentropy',\n",
    "              metrics=['binary_accuracy'])"
   ]
  },
  {
   "cell_type": "code",
   "execution_count": 32,
   "id": "57e4fe4e",
   "metadata": {},
   "outputs": [
    {
     "name": "stdout",
     "output_type": "stream",
     "text": [
      "Epoch 1/100\n",
      "442/442 [==============================] - 2s 2ms/step - loss: 0.7894 - binary_accuracy: 0.4200 - val_loss: 0.6929 - val_binary_accuracy: 0.5304\n",
      "Epoch 2/100\n",
      "442/442 [==============================] - 1s 2ms/step - loss: 0.6533 - binary_accuracy: 0.6191 - val_loss: 0.5965 - val_binary_accuracy: 0.7250\n",
      "Epoch 3/100\n",
      "442/442 [==============================] - 1s 2ms/step - loss: 0.5234 - binary_accuracy: 0.7963 - val_loss: 0.4360 - val_binary_accuracy: 0.8550\n",
      "Epoch 4/100\n",
      "442/442 [==============================] - 1s 2ms/step - loss: 0.3919 - binary_accuracy: 0.8608 - val_loss: 0.3306 - val_binary_accuracy: 0.8964\n",
      "Epoch 5/100\n",
      "442/442 [==============================] - 1s 2ms/step - loss: 0.3266 - binary_accuracy: 0.8798 - val_loss: 0.2831 - val_binary_accuracy: 0.9046\n",
      "Epoch 6/100\n",
      "442/442 [==============================] - 1s 2ms/step - loss: 0.2914 - binary_accuracy: 0.8923 - val_loss: 0.2550 - val_binary_accuracy: 0.9081\n",
      "Epoch 7/100\n",
      "442/442 [==============================] - 1s 2ms/step - loss: 0.2786 - binary_accuracy: 0.8904 - val_loss: 0.2431 - val_binary_accuracy: 0.9114\n",
      "Epoch 8/100\n",
      "442/442 [==============================] - 1s 2ms/step - loss: 0.2664 - binary_accuracy: 0.8951 - val_loss: 0.2311 - val_binary_accuracy: 0.9147\n",
      "Epoch 9/100\n",
      "442/442 [==============================] - 1s 2ms/step - loss: 0.2622 - binary_accuracy: 0.8917 - val_loss: 0.2260 - val_binary_accuracy: 0.9155\n",
      "Epoch 10/100\n",
      "442/442 [==============================] - 1s 2ms/step - loss: 0.2581 - binary_accuracy: 0.8946 - val_loss: 0.2213 - val_binary_accuracy: 0.9145\n",
      "Epoch 11/100\n",
      "442/442 [==============================] - 1s 2ms/step - loss: 0.2576 - binary_accuracy: 0.8953 - val_loss: 0.2185 - val_binary_accuracy: 0.9145\n",
      "Epoch 12/100\n",
      "442/442 [==============================] - 1s 2ms/step - loss: 0.2474 - binary_accuracy: 0.8987 - val_loss: 0.2152 - val_binary_accuracy: 0.9152\n",
      "Epoch 13/100\n",
      "442/442 [==============================] - 1s 2ms/step - loss: 0.2511 - binary_accuracy: 0.8981 - val_loss: 0.2138 - val_binary_accuracy: 0.9165\n",
      "Epoch 14/100\n",
      "442/442 [==============================] - 1s 2ms/step - loss: 0.2533 - binary_accuracy: 0.8977 - val_loss: 0.2123 - val_binary_accuracy: 0.9173\n",
      "Epoch 15/100\n",
      "442/442 [==============================] - 1s 2ms/step - loss: 0.2481 - binary_accuracy: 0.8985 - val_loss: 0.2115 - val_binary_accuracy: 0.9177\n",
      "Epoch 16/100\n",
      "442/442 [==============================] - 1s 2ms/step - loss: 0.2474 - binary_accuracy: 0.8987 - val_loss: 0.2103 - val_binary_accuracy: 0.9183\n",
      "Epoch 17/100\n",
      "442/442 [==============================] - 1s 2ms/step - loss: 0.2540 - binary_accuracy: 0.8944 - val_loss: 0.2099 - val_binary_accuracy: 0.9172\n",
      "Epoch 18/100\n",
      "442/442 [==============================] - 1s 2ms/step - loss: 0.2491 - binary_accuracy: 0.8963 - val_loss: 0.2087 - val_binary_accuracy: 0.9180\n",
      "Epoch 19/100\n",
      "442/442 [==============================] - 1s 2ms/step - loss: 0.2470 - binary_accuracy: 0.8982 - val_loss: 0.2087 - val_binary_accuracy: 0.9183\n",
      "Epoch 20/100\n",
      "442/442 [==============================] - 1s 2ms/step - loss: 0.2481 - binary_accuracy: 0.8971 - val_loss: 0.2083 - val_binary_accuracy: 0.9192\n",
      "Epoch 21/100\n",
      "442/442 [==============================] - 1s 2ms/step - loss: 0.2532 - binary_accuracy: 0.8961 - val_loss: 0.2074 - val_binary_accuracy: 0.9178\n",
      "Epoch 22/100\n",
      "442/442 [==============================] - 1s 2ms/step - loss: 0.2534 - binary_accuracy: 0.8929 - val_loss: 0.2071 - val_binary_accuracy: 0.9187\n",
      "Epoch 23/100\n",
      "442/442 [==============================] - 1s 2ms/step - loss: 0.2464 - binary_accuracy: 0.8973 - val_loss: 0.2075 - val_binary_accuracy: 0.9183\n",
      "Epoch 24/100\n",
      "442/442 [==============================] - 1s 2ms/step - loss: 0.2510 - binary_accuracy: 0.8982 - val_loss: 0.2070 - val_binary_accuracy: 0.9180\n",
      "Epoch 25/100\n",
      "442/442 [==============================] - 1s 2ms/step - loss: 0.2515 - binary_accuracy: 0.8961 - val_loss: 0.2069 - val_binary_accuracy: 0.9187\n",
      "Epoch 26/100\n",
      "442/442 [==============================] - 1s 2ms/step - loss: 0.2503 - binary_accuracy: 0.8965 - val_loss: 0.2068 - val_binary_accuracy: 0.9190\n",
      "Epoch 27/100\n",
      "442/442 [==============================] - 1s 2ms/step - loss: 0.2493 - binary_accuracy: 0.8970 - val_loss: 0.2063 - val_binary_accuracy: 0.9195\n",
      "Epoch 28/100\n",
      "442/442 [==============================] - 1s 2ms/step - loss: 0.2477 - binary_accuracy: 0.8980 - val_loss: 0.2064 - val_binary_accuracy: 0.9177\n",
      "Epoch 29/100\n",
      "442/442 [==============================] - 1s 2ms/step - loss: 0.2478 - binary_accuracy: 0.9007 - val_loss: 0.2065 - val_binary_accuracy: 0.9193\n",
      "Epoch 30/100\n",
      "442/442 [==============================] - 1s 2ms/step - loss: 0.2475 - binary_accuracy: 0.8981 - val_loss: 0.2060 - val_binary_accuracy: 0.9183\n",
      "Epoch 31/100\n",
      "442/442 [==============================] - 1s 2ms/step - loss: 0.2493 - binary_accuracy: 0.8964 - val_loss: 0.2060 - val_binary_accuracy: 0.9192\n",
      "Epoch 32/100\n",
      "442/442 [==============================] - 1s 2ms/step - loss: 0.2488 - binary_accuracy: 0.8973 - val_loss: 0.2060 - val_binary_accuracy: 0.9192\n",
      "Epoch 33/100\n",
      "442/442 [==============================] - 1s 2ms/step - loss: 0.2442 - binary_accuracy: 0.8991 - val_loss: 0.2060 - val_binary_accuracy: 0.9201\n",
      "Epoch 34/100\n",
      "442/442 [==============================] - 1s 2ms/step - loss: 0.2514 - binary_accuracy: 0.8956 - val_loss: 0.2065 - val_binary_accuracy: 0.9182\n",
      "Epoch 35/100\n",
      "442/442 [==============================] - 1s 2ms/step - loss: 0.2469 - binary_accuracy: 0.8981 - val_loss: 0.2060 - val_binary_accuracy: 0.9190\n",
      "Epoch 36/100\n",
      "442/442 [==============================] - 1s 2ms/step - loss: 0.2525 - binary_accuracy: 0.8955 - val_loss: 0.2058 - val_binary_accuracy: 0.9185\n",
      "Epoch 37/100\n",
      "442/442 [==============================] - 1s 2ms/step - loss: 0.2487 - binary_accuracy: 0.8922 - val_loss: 0.2058 - val_binary_accuracy: 0.9190\n",
      "Epoch 38/100\n",
      "442/442 [==============================] - 1s 2ms/step - loss: 0.2459 - binary_accuracy: 0.8995 - val_loss: 0.2057 - val_binary_accuracy: 0.9200\n",
      "Epoch 39/100\n",
      "442/442 [==============================] - 1s 2ms/step - loss: 0.2512 - binary_accuracy: 0.8978 - val_loss: 0.2058 - val_binary_accuracy: 0.9195\n",
      "Epoch 40/100\n",
      "442/442 [==============================] - 1s 2ms/step - loss: 0.2467 - binary_accuracy: 0.8986 - val_loss: 0.2062 - val_binary_accuracy: 0.9200\n",
      "Epoch 41/100\n",
      "442/442 [==============================] - 1s 2ms/step - loss: 0.2419 - binary_accuracy: 0.9000 - val_loss: 0.2052 - val_binary_accuracy: 0.9197\n",
      "Epoch 42/100\n",
      "442/442 [==============================] - 1s 2ms/step - loss: 0.2453 - binary_accuracy: 0.8990 - val_loss: 0.2053 - val_binary_accuracy: 0.9198\n",
      "Epoch 43/100\n",
      "442/442 [==============================] - 1s 2ms/step - loss: 0.2473 - binary_accuracy: 0.8985 - val_loss: 0.2053 - val_binary_accuracy: 0.9201\n",
      "Epoch 44/100\n",
      "442/442 [==============================] - 1s 2ms/step - loss: 0.2457 - binary_accuracy: 0.8973 - val_loss: 0.2052 - val_binary_accuracy: 0.9190\n",
      "Epoch 45/100\n",
      "442/442 [==============================] - 1s 2ms/step - loss: 0.2483 - binary_accuracy: 0.8973 - val_loss: 0.2051 - val_binary_accuracy: 0.9205\n",
      "Epoch 46/100\n",
      "442/442 [==============================] - 1s 2ms/step - loss: 0.2494 - binary_accuracy: 0.8977 - val_loss: 0.2050 - val_binary_accuracy: 0.9197\n",
      "Epoch 47/100\n",
      "442/442 [==============================] - 1s 2ms/step - loss: 0.2495 - binary_accuracy: 0.8963 - val_loss: 0.2056 - val_binary_accuracy: 0.9183\n",
      "Epoch 48/100\n",
      "442/442 [==============================] - 1s 2ms/step - loss: 0.2421 - binary_accuracy: 0.9013 - val_loss: 0.2052 - val_binary_accuracy: 0.9195\n",
      "Epoch 49/100\n",
      "442/442 [==============================] - 1s 2ms/step - loss: 0.2462 - binary_accuracy: 0.9012 - val_loss: 0.2049 - val_binary_accuracy: 0.9208\n",
      "Epoch 50/100\n",
      "442/442 [==============================] - 1s 2ms/step - loss: 0.2474 - binary_accuracy: 0.8991 - val_loss: 0.2049 - val_binary_accuracy: 0.9205\n",
      "Epoch 51/100\n",
      "442/442 [==============================] - 1s 2ms/step - loss: 0.2458 - binary_accuracy: 0.8966 - val_loss: 0.2056 - val_binary_accuracy: 0.9201\n",
      "Epoch 52/100\n",
      "442/442 [==============================] - 1s 2ms/step - loss: 0.2500 - binary_accuracy: 0.8982 - val_loss: 0.2054 - val_binary_accuracy: 0.9205\n",
      "Epoch 53/100\n",
      "442/442 [==============================] - 1s 2ms/step - loss: 0.2524 - binary_accuracy: 0.8947 - val_loss: 0.2050 - val_binary_accuracy: 0.9192\n",
      "Epoch 54/100\n",
      "442/442 [==============================] - 1s 2ms/step - loss: 0.2536 - binary_accuracy: 0.8946 - val_loss: 0.2054 - val_binary_accuracy: 0.9203\n",
      "Epoch 55/100\n",
      "442/442 [==============================] - 1s 2ms/step - loss: 0.2501 - binary_accuracy: 0.8992 - val_loss: 0.2058 - val_binary_accuracy: 0.9190\n",
      "Epoch 56/100\n",
      "442/442 [==============================] - 1s 2ms/step - loss: 0.2452 - binary_accuracy: 0.9004 - val_loss: 0.2052 - val_binary_accuracy: 0.9193\n",
      "Epoch 57/100\n",
      "442/442 [==============================] - 1s 2ms/step - loss: 0.2450 - binary_accuracy: 0.8992 - val_loss: 0.2054 - val_binary_accuracy: 0.9187\n",
      "Epoch 58/100\n",
      "442/442 [==============================] - 1s 2ms/step - loss: 0.2421 - binary_accuracy: 0.8988 - val_loss: 0.2055 - val_binary_accuracy: 0.9197\n",
      "Epoch 59/100\n",
      "442/442 [==============================] - 1s 2ms/step - loss: 0.2449 - binary_accuracy: 0.8994 - val_loss: 0.2055 - val_binary_accuracy: 0.9193\n",
      "Epoch 60/100\n",
      "442/442 [==============================] - 1s 2ms/step - loss: 0.2503 - binary_accuracy: 0.8951 - val_loss: 0.2055 - val_binary_accuracy: 0.9195\n",
      "Epoch 61/100\n",
      "442/442 [==============================] - 1s 2ms/step - loss: 0.2467 - binary_accuracy: 0.8996 - val_loss: 0.2051 - val_binary_accuracy: 0.9195\n",
      "Epoch 62/100\n",
      "442/442 [==============================] - 1s 2ms/step - loss: 0.2466 - binary_accuracy: 0.8955 - val_loss: 0.2049 - val_binary_accuracy: 0.9193\n",
      "Epoch 63/100\n",
      "442/442 [==============================] - 1s 2ms/step - loss: 0.2462 - binary_accuracy: 0.8983 - val_loss: 0.2052 - val_binary_accuracy: 0.9198\n",
      "Epoch 64/100\n",
      "442/442 [==============================] - 1s 2ms/step - loss: 0.2521 - binary_accuracy: 0.8968 - val_loss: 0.2052 - val_binary_accuracy: 0.9193\n",
      "Epoch 65/100\n",
      "442/442 [==============================] - 1s 2ms/step - loss: 0.2470 - binary_accuracy: 0.8980 - val_loss: 0.2054 - val_binary_accuracy: 0.9197\n",
      "Epoch 66/100\n",
      "442/442 [==============================] - 1s 2ms/step - loss: 0.2477 - binary_accuracy: 0.8984 - val_loss: 0.2054 - val_binary_accuracy: 0.9182\n",
      "Epoch 67/100\n",
      "442/442 [==============================] - 1s 2ms/step - loss: 0.2486 - binary_accuracy: 0.8977 - val_loss: 0.2053 - val_binary_accuracy: 0.9198\n",
      "Epoch 68/100\n",
      "442/442 [==============================] - 1s 2ms/step - loss: 0.2501 - binary_accuracy: 0.8968 - val_loss: 0.2055 - val_binary_accuracy: 0.9182\n",
      "Epoch 69/100\n",
      "442/442 [==============================] - 1s 2ms/step - loss: 0.2466 - binary_accuracy: 0.8958 - val_loss: 0.2057 - val_binary_accuracy: 0.9195\n",
      "Epoch 70/100\n",
      "442/442 [==============================] - 1s 2ms/step - loss: 0.2416 - binary_accuracy: 0.9009 - val_loss: 0.2057 - val_binary_accuracy: 0.9203\n",
      "Epoch 71/100\n",
      "442/442 [==============================] - 1s 2ms/step - loss: 0.2479 - binary_accuracy: 0.8967 - val_loss: 0.2054 - val_binary_accuracy: 0.9203\n",
      "Epoch 72/100\n",
      "442/442 [==============================] - 1s 2ms/step - loss: 0.2489 - binary_accuracy: 0.8977 - val_loss: 0.2056 - val_binary_accuracy: 0.9198\n",
      "Epoch 73/100\n",
      "442/442 [==============================] - 1s 2ms/step - loss: 0.2476 - binary_accuracy: 0.8978 - val_loss: 0.2058 - val_binary_accuracy: 0.9188\n",
      "Epoch 74/100\n",
      "442/442 [==============================] - 1s 2ms/step - loss: 0.2492 - binary_accuracy: 0.8990 - val_loss: 0.2055 - val_binary_accuracy: 0.9188\n",
      "Epoch 75/100\n",
      "442/442 [==============================] - 1s 2ms/step - loss: 0.2553 - binary_accuracy: 0.8903 - val_loss: 0.2059 - val_binary_accuracy: 0.9190\n",
      "Epoch 76/100\n",
      "442/442 [==============================] - 1s 2ms/step - loss: 0.2442 - binary_accuracy: 0.9005 - val_loss: 0.2057 - val_binary_accuracy: 0.9195\n",
      "Epoch 77/100\n",
      "442/442 [==============================] - 1s 2ms/step - loss: 0.2489 - binary_accuracy: 0.8987 - val_loss: 0.2058 - val_binary_accuracy: 0.9197\n",
      "Epoch 78/100\n",
      "442/442 [==============================] - 1s 2ms/step - loss: 0.2488 - binary_accuracy: 0.8949 - val_loss: 0.2051 - val_binary_accuracy: 0.9187\n",
      "Epoch 79/100\n",
      "442/442 [==============================] - 1s 2ms/step - loss: 0.2485 - binary_accuracy: 0.8951 - val_loss: 0.2052 - val_binary_accuracy: 0.9205\n",
      "Epoch 80/100\n",
      "442/442 [==============================] - 1s 2ms/step - loss: 0.2496 - binary_accuracy: 0.8968 - val_loss: 0.2058 - val_binary_accuracy: 0.9201\n",
      "Epoch 81/100\n",
      "442/442 [==============================] - 1s 2ms/step - loss: 0.2461 - binary_accuracy: 0.8969 - val_loss: 0.2055 - val_binary_accuracy: 0.9197\n",
      "Epoch 82/100\n",
      "442/442 [==============================] - 1s 2ms/step - loss: 0.2503 - binary_accuracy: 0.8968 - val_loss: 0.2055 - val_binary_accuracy: 0.9198\n",
      "Epoch 83/100\n",
      "442/442 [==============================] - 1s 2ms/step - loss: 0.2424 - binary_accuracy: 0.8999 - val_loss: 0.2055 - val_binary_accuracy: 0.9208\n",
      "Epoch 84/100\n",
      "442/442 [==============================] - 1s 2ms/step - loss: 0.2464 - binary_accuracy: 0.8987 - val_loss: 0.2058 - val_binary_accuracy: 0.9203\n",
      "Epoch 85/100\n",
      "442/442 [==============================] - 1s 2ms/step - loss: 0.2503 - binary_accuracy: 0.8966 - val_loss: 0.2056 - val_binary_accuracy: 0.9208\n",
      "Epoch 86/100\n",
      "442/442 [==============================] - 1s 2ms/step - loss: 0.2495 - binary_accuracy: 0.8960 - val_loss: 0.2054 - val_binary_accuracy: 0.9201\n",
      "Epoch 87/100\n",
      "442/442 [==============================] - 1s 2ms/step - loss: 0.2460 - binary_accuracy: 0.8999 - val_loss: 0.2057 - val_binary_accuracy: 0.9195\n",
      "Epoch 88/100\n",
      "442/442 [==============================] - 1s 2ms/step - loss: 0.2503 - binary_accuracy: 0.8987 - val_loss: 0.2052 - val_binary_accuracy: 0.9192\n",
      "Epoch 89/100\n",
      "442/442 [==============================] - 1s 2ms/step - loss: 0.2462 - binary_accuracy: 0.9004 - val_loss: 0.2057 - val_binary_accuracy: 0.9213\n",
      "Epoch 90/100\n",
      "442/442 [==============================] - 1s 2ms/step - loss: 0.2439 - binary_accuracy: 0.9011 - val_loss: 0.2046 - val_binary_accuracy: 0.9208\n",
      "Epoch 91/100\n",
      "442/442 [==============================] - 1s 2ms/step - loss: 0.2519 - binary_accuracy: 0.8966 - val_loss: 0.2056 - val_binary_accuracy: 0.9205\n",
      "Epoch 92/100\n",
      "442/442 [==============================] - 1s 2ms/step - loss: 0.2487 - binary_accuracy: 0.9006 - val_loss: 0.2054 - val_binary_accuracy: 0.9201\n",
      "Epoch 93/100\n",
      "442/442 [==============================] - 1s 2ms/step - loss: 0.2508 - binary_accuracy: 0.8967 - val_loss: 0.2062 - val_binary_accuracy: 0.9197\n",
      "Epoch 94/100\n",
      "442/442 [==============================] - 1s 2ms/step - loss: 0.2486 - binary_accuracy: 0.8973 - val_loss: 0.2057 - val_binary_accuracy: 0.9195\n",
      "Epoch 95/100\n",
      "442/442 [==============================] - 1s 2ms/step - loss: 0.2475 - binary_accuracy: 0.8973 - val_loss: 0.2056 - val_binary_accuracy: 0.9200\n",
      "Epoch 96/100\n",
      "442/442 [==============================] - 1s 2ms/step - loss: 0.2506 - binary_accuracy: 0.8980 - val_loss: 0.2053 - val_binary_accuracy: 0.9200\n",
      "Epoch 97/100\n",
      "442/442 [==============================] - 1s 2ms/step - loss: 0.2488 - binary_accuracy: 0.8968 - val_loss: 0.2049 - val_binary_accuracy: 0.9188\n",
      "Epoch 98/100\n",
      "442/442 [==============================] - 1s 2ms/step - loss: 0.2484 - binary_accuracy: 0.8971 - val_loss: 0.2053 - val_binary_accuracy: 0.9200\n",
      "Epoch 99/100\n",
      "442/442 [==============================] - 1s 2ms/step - loss: 0.2448 - binary_accuracy: 0.8992 - val_loss: 0.2055 - val_binary_accuracy: 0.9201\n",
      "Epoch 100/100\n",
      "442/442 [==============================] - 1s 2ms/step - loss: 0.2490 - binary_accuracy: 0.8968 - val_loss: 0.2052 - val_binary_accuracy: 0.9197\n"
     ]
    }
   ],
   "source": [
    "history = model.fit(x1_train, y1_train, batch_size=32, epochs=100,validation_data=(x1_test, y1_test))"
   ]
  },
  {
   "cell_type": "code",
   "execution_count": 46,
   "id": "c0a4836f",
   "metadata": {},
   "outputs": [
    {
     "name": "stderr",
     "output_type": "stream",
     "text": [
      "WARNING:absl:Found untraced functions such as _update_step_xla while saving (showing 1 of 1). These functions will not be directly callable after loading.\n"
     ]
    },
    {
     "name": "stdout",
     "output_type": "stream",
     "text": [
      "INFO:tensorflow:Assets written to: model\\assets\n"
     ]
    },
    {
     "name": "stderr",
     "output_type": "stream",
     "text": [
      "INFO:tensorflow:Assets written to: model\\assets\n"
     ]
    }
   ],
   "source": [
    "# model has a validation accuraccy of 91.97%\n",
    "model.save('model')"
   ]
  },
  {
   "cell_type": "code",
   "execution_count": null,
   "id": "f2f21887",
   "metadata": {},
   "outputs": [],
   "source": []
  }
 ],
 "metadata": {
  "kernelspec": {
   "display_name": "Python 3",
   "language": "python",
   "name": "python3"
  },
  "language_info": {
   "codemirror_mode": {
    "name": "ipython",
    "version": 3
   },
   "file_extension": ".py",
   "mimetype": "text/x-python",
   "name": "python",
   "nbconvert_exporter": "python",
   "pygments_lexer": "ipython3",
   "version": "3.10.9"
  },
  "papermill": {
   "default_parameters": {},
   "duration": 376.99645,
   "end_time": "2022-03-26T15:14:59.159294",
   "environment_variables": {},
   "exception": null,
   "input_path": "__notebook__.ipynb",
   "output_path": "__notebook__.ipynb",
   "parameters": {},
   "start_time": "2022-03-26T15:08:42.162844",
   "version": "2.3.3"
  },
  "vscode": {
   "interpreter": {
    "hash": "ce1e244e258ab90781388c7694f238eb800755cd07700420753a248941f85d6a"
   }
  }
 },
 "nbformat": 4,
 "nbformat_minor": 5
}
